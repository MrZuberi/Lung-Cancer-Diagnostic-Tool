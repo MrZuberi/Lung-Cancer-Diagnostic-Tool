{
  "metadata": {
    "kernelspec": {
      "display_name": "Python 3",
      "name": "python3"
    },
    "language_info": {
      "name": "python",
      "version": "3.11.11",
      "mimetype": "text/x-python",
      "codemirror_mode": {
        "name": "ipython",
        "version": 3
      },
      "pygments_lexer": "ipython3",
      "nbconvert_exporter": "python",
      "file_extension": ".py"
    },
    "kaggle": {
      "accelerator": "none",
      "dataSources": [
        {
          "sourceId": 12275572,
          "sourceType": "datasetVersion",
          "datasetId": 7735754
        }
      ],
      "dockerImageVersionId": 31040,
      "isInternetEnabled": false,
      "language": "python",
      "sourceType": "notebook",
      "isGpuEnabled": false
    },
    "colab": {
      "provenance": [],
      "gpuType": "T4",
      "collapsed_sections": [
        "AI79JUiVZjxE"
      ],
      "include_colab_link": true
    },
    "accelerator": "GPU"
  },
  "nbformat_minor": 0,
  "nbformat": 4,
  "cells": [
    {
      "cell_type": "markdown",
      "metadata": {
        "id": "view-in-github",
        "colab_type": "text"
      },
      "source": [
        "<a href=\"https://colab.research.google.com/github/MrZuberi/Lung-Cancer-Diagnostic-Tool/blob/main/Lung_Cancer_Predictive_Accuracy.ipynb\" target=\"_parent\"><img src=\"https://colab.research.google.com/assets/colab-badge.svg\" alt=\"Open In Colab\"/></a>"
      ]
    },
    {
      "cell_type": "markdown",
      "source": [
        "# ***Importing Dataset***"
      ],
      "metadata": {
        "id": "q8F5VgY6gUix"
      }
    },
    {
      "source": [
        "import kagglehub\n",
        "khwaishsaxena_lung_cancer_dataset_path = kagglehub.dataset_download('khwaishsaxena/lung-cancer-dataset')\n",
        "\n",
        "print('Data source import complete.')\n"
      ],
      "metadata": {
        "colab": {
          "base_uri": "https://localhost:8080/"
        },
        "id": "SeSDSA5WZjw-",
        "outputId": "84eed15a-3515-479a-a46a-d7e58f3cadb5"
      },
      "cell_type": "code",
      "outputs": [
        {
          "output_type": "stream",
          "name": "stdout",
          "text": [
            "Data source import complete.\n"
          ]
        }
      ],
      "execution_count": null
    },
    {
      "cell_type": "markdown",
      "source": [
        "# ***Initial Data Exploration***"
      ],
      "metadata": {
        "id": "ZbswwiRrZjxA"
      }
    },
    {
      "cell_type": "code",
      "source": [
        "df = pd.read_csv(\"/kaggle/input/lung-cancer-dataset/Lung Cancer.csv\")"
      ],
      "metadata": {
        "trusted": true,
        "execution": {
          "iopub.status.busy": "2025-06-30T02:55:05.802575Z",
          "iopub.execute_input": "2025-06-30T02:55:05.803585Z",
          "iopub.status.idle": "2025-06-30T02:55:09.418235Z",
          "shell.execute_reply.started": "2025-06-30T02:55:05.803551Z",
          "shell.execute_reply": "2025-06-30T02:55:09.417393Z"
        },
        "id": "q3KE9TFBZjxA"
      },
      "outputs": [],
      "execution_count": null
    },
    {
      "cell_type": "code",
      "source": [
        "df.info()"
      ],
      "metadata": {
        "trusted": true,
        "execution": {
          "iopub.status.busy": "2025-06-30T02:55:10.77705Z",
          "iopub.execute_input": "2025-06-30T02:55:10.777905Z",
          "iopub.status.idle": "2025-06-30T02:55:11.191561Z",
          "shell.execute_reply.started": "2025-06-30T02:55:10.777873Z",
          "shell.execute_reply": "2025-06-30T02:55:11.190511Z"
        },
        "colab": {
          "base_uri": "https://localhost:8080/"
        },
        "id": "I5QbpAS8ZjxB",
        "outputId": "ef2531b0-18a2-4201-b187-d875597a867b"
      },
      "outputs": [
        {
          "output_type": "stream",
          "name": "stdout",
          "text": [
            "<class 'pandas.core.frame.DataFrame'>\n",
            "RangeIndex: 890000 entries, 0 to 889999\n",
            "Data columns (total 17 columns):\n",
            " #   Column              Non-Null Count   Dtype  \n",
            "---  ------              --------------   -----  \n",
            " 0   id                  890000 non-null  int64  \n",
            " 1   age                 890000 non-null  float64\n",
            " 2   gender              890000 non-null  object \n",
            " 3   country             890000 non-null  object \n",
            " 4   diagnosis_date      890000 non-null  object \n",
            " 5   cancer_stage        890000 non-null  object \n",
            " 6   family_history      890000 non-null  object \n",
            " 7   smoking_status      890000 non-null  object \n",
            " 8   bmi                 890000 non-null  float64\n",
            " 9   cholesterol_level   890000 non-null  int64  \n",
            " 10  hypertension        890000 non-null  int64  \n",
            " 11  asthma              890000 non-null  int64  \n",
            " 12  cirrhosis           890000 non-null  int64  \n",
            " 13  other_cancer        890000 non-null  int64  \n",
            " 14  treatment_type      890000 non-null  object \n",
            " 15  end_treatment_date  890000 non-null  object \n",
            " 16  survived            890000 non-null  int64  \n",
            "dtypes: float64(2), int64(7), object(8)\n",
            "memory usage: 115.4+ MB\n"
          ]
        }
      ],
      "execution_count": null
    },
    {
      "cell_type": "code",
      "source": [
        "df.columns"
      ],
      "metadata": {
        "trusted": true,
        "execution": {
          "iopub.status.busy": "2025-06-30T02:55:35.631172Z",
          "iopub.execute_input": "2025-06-30T02:55:35.631501Z",
          "iopub.status.idle": "2025-06-30T02:55:35.639229Z",
          "shell.execute_reply.started": "2025-06-30T02:55:35.631476Z",
          "shell.execute_reply": "2025-06-30T02:55:35.638151Z"
        },
        "colab": {
          "base_uri": "https://localhost:8080/"
        },
        "id": "zg2mUwiFZjxB",
        "outputId": "fd081691-8b65-4e17-870c-a3c0259f87fa"
      },
      "outputs": [
        {
          "output_type": "execute_result",
          "data": {
            "text/plain": [
              "Index(['id', 'age', 'gender', 'country', 'diagnosis_date', 'cancer_stage',\n",
              "       'family_history', 'smoking_status', 'bmi', 'cholesterol_level',\n",
              "       'hypertension', 'asthma', 'cirrhosis', 'other_cancer', 'treatment_type',\n",
              "       'end_treatment_date', 'survived'],\n",
              "      dtype='object')"
            ]
          },
          "metadata": {},
          "execution_count": 6
        }
      ],
      "execution_count": null
    },
    {
      "cell_type": "markdown",
      "source": [
        "## ***Regarding OHE***\n",
        "Since all present countries are nearly equally distributed I will keep all of them."
      ],
      "metadata": {
        "id": "MtgqJR09ZjxC"
      }
    },
    {
      "cell_type": "code",
      "source": [
        "df.head()"
      ],
      "metadata": {
        "trusted": true,
        "execution": {
          "iopub.status.busy": "2025-06-30T02:58:10.186088Z",
          "iopub.execute_input": "2025-06-30T02:58:10.18645Z",
          "iopub.status.idle": "2025-06-30T02:58:10.215667Z",
          "shell.execute_reply.started": "2025-06-30T02:58:10.186406Z",
          "shell.execute_reply": "2025-06-30T02:58:10.214714Z"
        },
        "colab": {
          "base_uri": "https://localhost:8080/",
          "height": 206
        },
        "id": "gKZ7o9yfZjxC",
        "outputId": "dc1f2c58-fbef-41d0-8fe4-beb0b8149f0a"
      },
      "outputs": [
        {
          "output_type": "execute_result",
          "data": {
            "text/plain": [
              "   id   age  gender      country diagnosis_date cancer_stage family_history  \\\n",
              "0   1  64.0    Male       Sweden     2016-04-05      Stage I            Yes   \n",
              "1   2  50.0  Female  Netherlands     2023-04-20    Stage III            Yes   \n",
              "2   3  65.0  Female      Hungary     2023-04-05    Stage III            Yes   \n",
              "3   4  51.0  Female      Belgium     2016-02-05      Stage I             No   \n",
              "4   5  37.0    Male   Luxembourg     2023-11-29      Stage I             No   \n",
              "\n",
              "   smoking_status   bmi  cholesterol_level  hypertension  asthma  cirrhosis  \\\n",
              "0  Passive Smoker  29.4                199             0       0          1   \n",
              "1  Passive Smoker  41.2                280             1       1          0   \n",
              "2   Former Smoker  44.0                268             1       1          0   \n",
              "3  Passive Smoker  43.0                241             1       1          0   \n",
              "4  Passive Smoker  19.7                178             0       0          0   \n",
              "\n",
              "   other_cancer treatment_type end_treatment_date  survived  \n",
              "0             0   Chemotherapy         2017-09-10         0  \n",
              "1             0        Surgery         2024-06-17         1  \n",
              "2             0       Combined         2024-04-09         0  \n",
              "3             0   Chemotherapy         2017-04-23         0  \n",
              "4             0       Combined         2025-01-08         0  "
            ],
            "text/html": [
              "\n",
              "  <div id=\"df-a2bce403-d3fd-42ad-b097-ec993b1f56f4\" class=\"colab-df-container\">\n",
              "    <div>\n",
              "<style scoped>\n",
              "    .dataframe tbody tr th:only-of-type {\n",
              "        vertical-align: middle;\n",
              "    }\n",
              "\n",
              "    .dataframe tbody tr th {\n",
              "        vertical-align: top;\n",
              "    }\n",
              "\n",
              "    .dataframe thead th {\n",
              "        text-align: right;\n",
              "    }\n",
              "</style>\n",
              "<table border=\"1\" class=\"dataframe\">\n",
              "  <thead>\n",
              "    <tr style=\"text-align: right;\">\n",
              "      <th></th>\n",
              "      <th>id</th>\n",
              "      <th>age</th>\n",
              "      <th>gender</th>\n",
              "      <th>country</th>\n",
              "      <th>diagnosis_date</th>\n",
              "      <th>cancer_stage</th>\n",
              "      <th>family_history</th>\n",
              "      <th>smoking_status</th>\n",
              "      <th>bmi</th>\n",
              "      <th>cholesterol_level</th>\n",
              "      <th>hypertension</th>\n",
              "      <th>asthma</th>\n",
              "      <th>cirrhosis</th>\n",
              "      <th>other_cancer</th>\n",
              "      <th>treatment_type</th>\n",
              "      <th>end_treatment_date</th>\n",
              "      <th>survived</th>\n",
              "    </tr>\n",
              "  </thead>\n",
              "  <tbody>\n",
              "    <tr>\n",
              "      <th>0</th>\n",
              "      <td>1</td>\n",
              "      <td>64.0</td>\n",
              "      <td>Male</td>\n",
              "      <td>Sweden</td>\n",
              "      <td>2016-04-05</td>\n",
              "      <td>Stage I</td>\n",
              "      <td>Yes</td>\n",
              "      <td>Passive Smoker</td>\n",
              "      <td>29.4</td>\n",
              "      <td>199</td>\n",
              "      <td>0</td>\n",
              "      <td>0</td>\n",
              "      <td>1</td>\n",
              "      <td>0</td>\n",
              "      <td>Chemotherapy</td>\n",
              "      <td>2017-09-10</td>\n",
              "      <td>0</td>\n",
              "    </tr>\n",
              "    <tr>\n",
              "      <th>1</th>\n",
              "      <td>2</td>\n",
              "      <td>50.0</td>\n",
              "      <td>Female</td>\n",
              "      <td>Netherlands</td>\n",
              "      <td>2023-04-20</td>\n",
              "      <td>Stage III</td>\n",
              "      <td>Yes</td>\n",
              "      <td>Passive Smoker</td>\n",
              "      <td>41.2</td>\n",
              "      <td>280</td>\n",
              "      <td>1</td>\n",
              "      <td>1</td>\n",
              "      <td>0</td>\n",
              "      <td>0</td>\n",
              "      <td>Surgery</td>\n",
              "      <td>2024-06-17</td>\n",
              "      <td>1</td>\n",
              "    </tr>\n",
              "    <tr>\n",
              "      <th>2</th>\n",
              "      <td>3</td>\n",
              "      <td>65.0</td>\n",
              "      <td>Female</td>\n",
              "      <td>Hungary</td>\n",
              "      <td>2023-04-05</td>\n",
              "      <td>Stage III</td>\n",
              "      <td>Yes</td>\n",
              "      <td>Former Smoker</td>\n",
              "      <td>44.0</td>\n",
              "      <td>268</td>\n",
              "      <td>1</td>\n",
              "      <td>1</td>\n",
              "      <td>0</td>\n",
              "      <td>0</td>\n",
              "      <td>Combined</td>\n",
              "      <td>2024-04-09</td>\n",
              "      <td>0</td>\n",
              "    </tr>\n",
              "    <tr>\n",
              "      <th>3</th>\n",
              "      <td>4</td>\n",
              "      <td>51.0</td>\n",
              "      <td>Female</td>\n",
              "      <td>Belgium</td>\n",
              "      <td>2016-02-05</td>\n",
              "      <td>Stage I</td>\n",
              "      <td>No</td>\n",
              "      <td>Passive Smoker</td>\n",
              "      <td>43.0</td>\n",
              "      <td>241</td>\n",
              "      <td>1</td>\n",
              "      <td>1</td>\n",
              "      <td>0</td>\n",
              "      <td>0</td>\n",
              "      <td>Chemotherapy</td>\n",
              "      <td>2017-04-23</td>\n",
              "      <td>0</td>\n",
              "    </tr>\n",
              "    <tr>\n",
              "      <th>4</th>\n",
              "      <td>5</td>\n",
              "      <td>37.0</td>\n",
              "      <td>Male</td>\n",
              "      <td>Luxembourg</td>\n",
              "      <td>2023-11-29</td>\n",
              "      <td>Stage I</td>\n",
              "      <td>No</td>\n",
              "      <td>Passive Smoker</td>\n",
              "      <td>19.7</td>\n",
              "      <td>178</td>\n",
              "      <td>0</td>\n",
              "      <td>0</td>\n",
              "      <td>0</td>\n",
              "      <td>0</td>\n",
              "      <td>Combined</td>\n",
              "      <td>2025-01-08</td>\n",
              "      <td>0</td>\n",
              "    </tr>\n",
              "  </tbody>\n",
              "</table>\n",
              "</div>\n",
              "    <div class=\"colab-df-buttons\">\n",
              "\n",
              "  <div class=\"colab-df-container\">\n",
              "    <button class=\"colab-df-convert\" onclick=\"convertToInteractive('df-a2bce403-d3fd-42ad-b097-ec993b1f56f4')\"\n",
              "            title=\"Convert this dataframe to an interactive table.\"\n",
              "            style=\"display:none;\">\n",
              "\n",
              "  <svg xmlns=\"http://www.w3.org/2000/svg\" height=\"24px\" viewBox=\"0 -960 960 960\">\n",
              "    <path d=\"M120-120v-720h720v720H120Zm60-500h600v-160H180v160Zm220 220h160v-160H400v160Zm0 220h160v-160H400v160ZM180-400h160v-160H180v160Zm440 0h160v-160H620v160ZM180-180h160v-160H180v160Zm440 0h160v-160H620v160Z\"/>\n",
              "  </svg>\n",
              "    </button>\n",
              "\n",
              "  <style>\n",
              "    .colab-df-container {\n",
              "      display:flex;\n",
              "      gap: 12px;\n",
              "    }\n",
              "\n",
              "    .colab-df-convert {\n",
              "      background-color: #E8F0FE;\n",
              "      border: none;\n",
              "      border-radius: 50%;\n",
              "      cursor: pointer;\n",
              "      display: none;\n",
              "      fill: #1967D2;\n",
              "      height: 32px;\n",
              "      padding: 0 0 0 0;\n",
              "      width: 32px;\n",
              "    }\n",
              "\n",
              "    .colab-df-convert:hover {\n",
              "      background-color: #E2EBFA;\n",
              "      box-shadow: 0px 1px 2px rgba(60, 64, 67, 0.3), 0px 1px 3px 1px rgba(60, 64, 67, 0.15);\n",
              "      fill: #174EA6;\n",
              "    }\n",
              "\n",
              "    .colab-df-buttons div {\n",
              "      margin-bottom: 4px;\n",
              "    }\n",
              "\n",
              "    [theme=dark] .colab-df-convert {\n",
              "      background-color: #3B4455;\n",
              "      fill: #D2E3FC;\n",
              "    }\n",
              "\n",
              "    [theme=dark] .colab-df-convert:hover {\n",
              "      background-color: #434B5C;\n",
              "      box-shadow: 0px 1px 3px 1px rgba(0, 0, 0, 0.15);\n",
              "      filter: drop-shadow(0px 1px 2px rgba(0, 0, 0, 0.3));\n",
              "      fill: #FFFFFF;\n",
              "    }\n",
              "  </style>\n",
              "\n",
              "    <script>\n",
              "      const buttonEl =\n",
              "        document.querySelector('#df-a2bce403-d3fd-42ad-b097-ec993b1f56f4 button.colab-df-convert');\n",
              "      buttonEl.style.display =\n",
              "        google.colab.kernel.accessAllowed ? 'block' : 'none';\n",
              "\n",
              "      async function convertToInteractive(key) {\n",
              "        const element = document.querySelector('#df-a2bce403-d3fd-42ad-b097-ec993b1f56f4');\n",
              "        const dataTable =\n",
              "          await google.colab.kernel.invokeFunction('convertToInteractive',\n",
              "                                                    [key], {});\n",
              "        if (!dataTable) return;\n",
              "\n",
              "        const docLinkHtml = 'Like what you see? Visit the ' +\n",
              "          '<a target=\"_blank\" href=https://colab.research.google.com/notebooks/data_table.ipynb>data table notebook</a>'\n",
              "          + ' to learn more about interactive tables.';\n",
              "        element.innerHTML = '';\n",
              "        dataTable['output_type'] = 'display_data';\n",
              "        await google.colab.output.renderOutput(dataTable, element);\n",
              "        const docLink = document.createElement('div');\n",
              "        docLink.innerHTML = docLinkHtml;\n",
              "        element.appendChild(docLink);\n",
              "      }\n",
              "    </script>\n",
              "  </div>\n",
              "\n",
              "\n",
              "    <div id=\"df-b3b1a232-e240-4485-a927-a8758c14c159\">\n",
              "      <button class=\"colab-df-quickchart\" onclick=\"quickchart('df-b3b1a232-e240-4485-a927-a8758c14c159')\"\n",
              "                title=\"Suggest charts\"\n",
              "                style=\"display:none;\">\n",
              "\n",
              "<svg xmlns=\"http://www.w3.org/2000/svg\" height=\"24px\"viewBox=\"0 0 24 24\"\n",
              "     width=\"24px\">\n",
              "    <g>\n",
              "        <path d=\"M19 3H5c-1.1 0-2 .9-2 2v14c0 1.1.9 2 2 2h14c1.1 0 2-.9 2-2V5c0-1.1-.9-2-2-2zM9 17H7v-7h2v7zm4 0h-2V7h2v10zm4 0h-2v-4h2v4z\"/>\n",
              "    </g>\n",
              "</svg>\n",
              "      </button>\n",
              "\n",
              "<style>\n",
              "  .colab-df-quickchart {\n",
              "      --bg-color: #E8F0FE;\n",
              "      --fill-color: #1967D2;\n",
              "      --hover-bg-color: #E2EBFA;\n",
              "      --hover-fill-color: #174EA6;\n",
              "      --disabled-fill-color: #AAA;\n",
              "      --disabled-bg-color: #DDD;\n",
              "  }\n",
              "\n",
              "  [theme=dark] .colab-df-quickchart {\n",
              "      --bg-color: #3B4455;\n",
              "      --fill-color: #D2E3FC;\n",
              "      --hover-bg-color: #434B5C;\n",
              "      --hover-fill-color: #FFFFFF;\n",
              "      --disabled-bg-color: #3B4455;\n",
              "      --disabled-fill-color: #666;\n",
              "  }\n",
              "\n",
              "  .colab-df-quickchart {\n",
              "    background-color: var(--bg-color);\n",
              "    border: none;\n",
              "    border-radius: 50%;\n",
              "    cursor: pointer;\n",
              "    display: none;\n",
              "    fill: var(--fill-color);\n",
              "    height: 32px;\n",
              "    padding: 0;\n",
              "    width: 32px;\n",
              "  }\n",
              "\n",
              "  .colab-df-quickchart:hover {\n",
              "    background-color: var(--hover-bg-color);\n",
              "    box-shadow: 0 1px 2px rgba(60, 64, 67, 0.3), 0 1px 3px 1px rgba(60, 64, 67, 0.15);\n",
              "    fill: var(--button-hover-fill-color);\n",
              "  }\n",
              "\n",
              "  .colab-df-quickchart-complete:disabled,\n",
              "  .colab-df-quickchart-complete:disabled:hover {\n",
              "    background-color: var(--disabled-bg-color);\n",
              "    fill: var(--disabled-fill-color);\n",
              "    box-shadow: none;\n",
              "  }\n",
              "\n",
              "  .colab-df-spinner {\n",
              "    border: 2px solid var(--fill-color);\n",
              "    border-color: transparent;\n",
              "    border-bottom-color: var(--fill-color);\n",
              "    animation:\n",
              "      spin 1s steps(1) infinite;\n",
              "  }\n",
              "\n",
              "  @keyframes spin {\n",
              "    0% {\n",
              "      border-color: transparent;\n",
              "      border-bottom-color: var(--fill-color);\n",
              "      border-left-color: var(--fill-color);\n",
              "    }\n",
              "    20% {\n",
              "      border-color: transparent;\n",
              "      border-left-color: var(--fill-color);\n",
              "      border-top-color: var(--fill-color);\n",
              "    }\n",
              "    30% {\n",
              "      border-color: transparent;\n",
              "      border-left-color: var(--fill-color);\n",
              "      border-top-color: var(--fill-color);\n",
              "      border-right-color: var(--fill-color);\n",
              "    }\n",
              "    40% {\n",
              "      border-color: transparent;\n",
              "      border-right-color: var(--fill-color);\n",
              "      border-top-color: var(--fill-color);\n",
              "    }\n",
              "    60% {\n",
              "      border-color: transparent;\n",
              "      border-right-color: var(--fill-color);\n",
              "    }\n",
              "    80% {\n",
              "      border-color: transparent;\n",
              "      border-right-color: var(--fill-color);\n",
              "      border-bottom-color: var(--fill-color);\n",
              "    }\n",
              "    90% {\n",
              "      border-color: transparent;\n",
              "      border-bottom-color: var(--fill-color);\n",
              "    }\n",
              "  }\n",
              "</style>\n",
              "\n",
              "      <script>\n",
              "        async function quickchart(key) {\n",
              "          const quickchartButtonEl =\n",
              "            document.querySelector('#' + key + ' button');\n",
              "          quickchartButtonEl.disabled = true;  // To prevent multiple clicks.\n",
              "          quickchartButtonEl.classList.add('colab-df-spinner');\n",
              "          try {\n",
              "            const charts = await google.colab.kernel.invokeFunction(\n",
              "                'suggestCharts', [key], {});\n",
              "          } catch (error) {\n",
              "            console.error('Error during call to suggestCharts:', error);\n",
              "          }\n",
              "          quickchartButtonEl.classList.remove('colab-df-spinner');\n",
              "          quickchartButtonEl.classList.add('colab-df-quickchart-complete');\n",
              "        }\n",
              "        (() => {\n",
              "          let quickchartButtonEl =\n",
              "            document.querySelector('#df-b3b1a232-e240-4485-a927-a8758c14c159 button');\n",
              "          quickchartButtonEl.style.display =\n",
              "            google.colab.kernel.accessAllowed ? 'block' : 'none';\n",
              "        })();\n",
              "      </script>\n",
              "    </div>\n",
              "\n",
              "    </div>\n",
              "  </div>\n"
            ],
            "application/vnd.google.colaboratory.intrinsic+json": {
              "type": "dataframe",
              "variable_name": "df"
            }
          },
          "metadata": {},
          "execution_count": 8
        }
      ],
      "execution_count": null
    },
    {
      "cell_type": "markdown",
      "source": [
        "## ***To calculate the number of days treatment was given we subtracted the end date by the diagnosis date***"
      ],
      "metadata": {
        "id": "Sq0EcTUrZjxD"
      }
    },
    {
      "cell_type": "code",
      "source": [
        "df['diagnosis_date'] = pd.to_datetime(df['diagnosis_date'])\n",
        "df['end_treatment_date'] = pd.to_datetime(df['end_treatment_date'])\n",
        "\n",
        "df['treatment_duration_days'] = (df['end_treatment_date'] - df['diagnosis_date']).dt.days\n",
        "\n",
        "df.drop(['diagnosis_date', 'end_treatment_date'], axis=1, inplace=True)"
      ],
      "metadata": {
        "trusted": true,
        "execution": {
          "iopub.status.busy": "2025-06-30T03:07:58.376018Z",
          "iopub.execute_input": "2025-06-30T03:07:58.376444Z",
          "iopub.status.idle": "2025-06-30T03:07:58.847115Z",
          "shell.execute_reply.started": "2025-06-30T03:07:58.376396Z",
          "shell.execute_reply": "2025-06-30T03:07:58.846034Z"
        },
        "id": "u8pK2O6gZjxD"
      },
      "outputs": [],
      "execution_count": null
    },
    {
      "cell_type": "code",
      "source": [
        "columns_to_encode = ['gender', 'country', 'family_history', 'smoking_status', 'treatment_type']\n",
        "\n",
        "df = pd.get_dummies(df, columns=columns_to_encode, drop_first=True)"
      ],
      "metadata": {
        "trusted": true,
        "execution": {
          "iopub.status.busy": "2025-06-30T03:03:31.240022Z",
          "iopub.execute_input": "2025-06-30T03:03:31.241108Z",
          "iopub.status.idle": "2025-06-30T03:03:31.874534Z",
          "shell.execute_reply.started": "2025-06-30T03:03:31.241076Z",
          "shell.execute_reply": "2025-06-30T03:03:31.872743Z"
        },
        "id": "3BbeisXmZjxD"
      },
      "outputs": [],
      "execution_count": null
    },
    {
      "cell_type": "code",
      "source": [
        "df['cancer_stage'].value_counts()"
      ],
      "metadata": {
        "trusted": true,
        "execution": {
          "iopub.status.busy": "2025-06-30T03:04:26.728192Z",
          "iopub.execute_input": "2025-06-30T03:04:26.728602Z",
          "iopub.status.idle": "2025-06-30T03:04:26.807066Z",
          "shell.execute_reply.started": "2025-06-30T03:04:26.728572Z",
          "shell.execute_reply": "2025-06-30T03:04:26.805502Z"
        },
        "colab": {
          "base_uri": "https://localhost:8080/",
          "height": 241
        },
        "id": "YbZ_u7YHZjxD",
        "outputId": "336996b2-297f-42f7-d7d0-9a2cc0a8eefd"
      },
      "outputs": [
        {
          "output_type": "execute_result",
          "data": {
            "text/plain": [
              "cancer_stage\n",
              "Stage III    222594\n",
              "Stage IV     222527\n",
              "Stage I      222516\n",
              "Stage II     222363\n",
              "Name: count, dtype: int64"
            ],
            "text/html": [
              "<div>\n",
              "<style scoped>\n",
              "    .dataframe tbody tr th:only-of-type {\n",
              "        vertical-align: middle;\n",
              "    }\n",
              "\n",
              "    .dataframe tbody tr th {\n",
              "        vertical-align: top;\n",
              "    }\n",
              "\n",
              "    .dataframe thead th {\n",
              "        text-align: right;\n",
              "    }\n",
              "</style>\n",
              "<table border=\"1\" class=\"dataframe\">\n",
              "  <thead>\n",
              "    <tr style=\"text-align: right;\">\n",
              "      <th></th>\n",
              "      <th>count</th>\n",
              "    </tr>\n",
              "    <tr>\n",
              "      <th>cancer_stage</th>\n",
              "      <th></th>\n",
              "    </tr>\n",
              "  </thead>\n",
              "  <tbody>\n",
              "    <tr>\n",
              "      <th>Stage III</th>\n",
              "      <td>222594</td>\n",
              "    </tr>\n",
              "    <tr>\n",
              "      <th>Stage IV</th>\n",
              "      <td>222527</td>\n",
              "    </tr>\n",
              "    <tr>\n",
              "      <th>Stage I</th>\n",
              "      <td>222516</td>\n",
              "    </tr>\n",
              "    <tr>\n",
              "      <th>Stage II</th>\n",
              "      <td>222363</td>\n",
              "    </tr>\n",
              "  </tbody>\n",
              "</table>\n",
              "</div><br><label><b>dtype:</b> int64</label>"
            ]
          },
          "metadata": {},
          "execution_count": 11
        }
      ],
      "execution_count": null
    },
    {
      "cell_type": "code",
      "source": [
        "stage_order = ['Stage I', 'Stage II', 'Stage III', 'Stage IV']\n",
        "\n",
        "df['cancer_stage'] = pd.Categorical(df['cancer_stage'], categories=stage_order, ordered=True).codes"
      ],
      "metadata": {
        "trusted": true,
        "execution": {
          "iopub.status.busy": "2025-06-30T03:05:32.535867Z",
          "iopub.execute_input": "2025-06-30T03:05:32.536249Z",
          "iopub.status.idle": "2025-06-30T03:05:32.595395Z",
          "shell.execute_reply.started": "2025-06-30T03:05:32.536222Z",
          "shell.execute_reply": "2025-06-30T03:05:32.594292Z"
        },
        "id": "QJ0gxxpzZjxD"
      },
      "outputs": [],
      "execution_count": null
    },
    {
      "cell_type": "code",
      "source": [
        "df.head()"
      ],
      "metadata": {
        "trusted": true,
        "execution": {
          "iopub.status.busy": "2025-06-30T03:08:21.41795Z",
          "iopub.execute_input": "2025-06-30T03:08:21.418253Z",
          "iopub.status.idle": "2025-06-30T03:08:21.444404Z",
          "shell.execute_reply.started": "2025-06-30T03:08:21.418232Z",
          "shell.execute_reply": "2025-06-30T03:08:21.443496Z"
        },
        "colab": {
          "base_uri": "https://localhost:8080/",
          "height": 273
        },
        "id": "4P-HUmn0ZjxE",
        "outputId": "a35fa836-3616-4c93-b6fe-cc281d062383"
      },
      "outputs": [
        {
          "output_type": "execute_result",
          "data": {
            "text/plain": [
              "   id   age  cancer_stage   bmi  cholesterol_level  hypertension  asthma  \\\n",
              "0   1  64.0             0  29.4                199             0       0   \n",
              "1   2  50.0             2  41.2                280             1       1   \n",
              "2   3  65.0             2  44.0                268             1       1   \n",
              "3   4  51.0             0  43.0                241             1       1   \n",
              "4   5  37.0             0  19.7                178             0       0   \n",
              "\n",
              "   cirrhosis  other_cancer  survived  ...  country_Slovenia  country_Spain  \\\n",
              "0          1             0         0  ...             False          False   \n",
              "1          0             0         1  ...             False          False   \n",
              "2          0             0         0  ...             False          False   \n",
              "3          0             0         0  ...             False          False   \n",
              "4          0             0         0  ...             False          False   \n",
              "\n",
              "   country_Sweden  family_history_Yes  smoking_status_Former Smoker  \\\n",
              "0            True                True                         False   \n",
              "1           False                True                         False   \n",
              "2           False                True                          True   \n",
              "3           False               False                         False   \n",
              "4           False               False                         False   \n",
              "\n",
              "   smoking_status_Never Smoked  smoking_status_Passive Smoker  \\\n",
              "0                        False                           True   \n",
              "1                        False                           True   \n",
              "2                        False                          False   \n",
              "3                        False                           True   \n",
              "4                        False                           True   \n",
              "\n",
              "   treatment_type_Combined  treatment_type_Radiation  treatment_type_Surgery  \n",
              "0                    False                     False                   False  \n",
              "1                    False                     False                    True  \n",
              "2                     True                     False                   False  \n",
              "3                    False                     False                   False  \n",
              "4                     True                     False                   False  \n",
              "\n",
              "[5 rows x 45 columns]"
            ],
            "text/html": [
              "\n",
              "  <div id=\"df-8f3d47f6-8d7b-48b2-baf8-7f98a73ccf2a\" class=\"colab-df-container\">\n",
              "    <div>\n",
              "<style scoped>\n",
              "    .dataframe tbody tr th:only-of-type {\n",
              "        vertical-align: middle;\n",
              "    }\n",
              "\n",
              "    .dataframe tbody tr th {\n",
              "        vertical-align: top;\n",
              "    }\n",
              "\n",
              "    .dataframe thead th {\n",
              "        text-align: right;\n",
              "    }\n",
              "</style>\n",
              "<table border=\"1\" class=\"dataframe\">\n",
              "  <thead>\n",
              "    <tr style=\"text-align: right;\">\n",
              "      <th></th>\n",
              "      <th>id</th>\n",
              "      <th>age</th>\n",
              "      <th>cancer_stage</th>\n",
              "      <th>bmi</th>\n",
              "      <th>cholesterol_level</th>\n",
              "      <th>hypertension</th>\n",
              "      <th>asthma</th>\n",
              "      <th>cirrhosis</th>\n",
              "      <th>other_cancer</th>\n",
              "      <th>survived</th>\n",
              "      <th>...</th>\n",
              "      <th>country_Slovenia</th>\n",
              "      <th>country_Spain</th>\n",
              "      <th>country_Sweden</th>\n",
              "      <th>family_history_Yes</th>\n",
              "      <th>smoking_status_Former Smoker</th>\n",
              "      <th>smoking_status_Never Smoked</th>\n",
              "      <th>smoking_status_Passive Smoker</th>\n",
              "      <th>treatment_type_Combined</th>\n",
              "      <th>treatment_type_Radiation</th>\n",
              "      <th>treatment_type_Surgery</th>\n",
              "    </tr>\n",
              "  </thead>\n",
              "  <tbody>\n",
              "    <tr>\n",
              "      <th>0</th>\n",
              "      <td>1</td>\n",
              "      <td>64.0</td>\n",
              "      <td>0</td>\n",
              "      <td>29.4</td>\n",
              "      <td>199</td>\n",
              "      <td>0</td>\n",
              "      <td>0</td>\n",
              "      <td>1</td>\n",
              "      <td>0</td>\n",
              "      <td>0</td>\n",
              "      <td>...</td>\n",
              "      <td>False</td>\n",
              "      <td>False</td>\n",
              "      <td>True</td>\n",
              "      <td>True</td>\n",
              "      <td>False</td>\n",
              "      <td>False</td>\n",
              "      <td>True</td>\n",
              "      <td>False</td>\n",
              "      <td>False</td>\n",
              "      <td>False</td>\n",
              "    </tr>\n",
              "    <tr>\n",
              "      <th>1</th>\n",
              "      <td>2</td>\n",
              "      <td>50.0</td>\n",
              "      <td>2</td>\n",
              "      <td>41.2</td>\n",
              "      <td>280</td>\n",
              "      <td>1</td>\n",
              "      <td>1</td>\n",
              "      <td>0</td>\n",
              "      <td>0</td>\n",
              "      <td>1</td>\n",
              "      <td>...</td>\n",
              "      <td>False</td>\n",
              "      <td>False</td>\n",
              "      <td>False</td>\n",
              "      <td>True</td>\n",
              "      <td>False</td>\n",
              "      <td>False</td>\n",
              "      <td>True</td>\n",
              "      <td>False</td>\n",
              "      <td>False</td>\n",
              "      <td>True</td>\n",
              "    </tr>\n",
              "    <tr>\n",
              "      <th>2</th>\n",
              "      <td>3</td>\n",
              "      <td>65.0</td>\n",
              "      <td>2</td>\n",
              "      <td>44.0</td>\n",
              "      <td>268</td>\n",
              "      <td>1</td>\n",
              "      <td>1</td>\n",
              "      <td>0</td>\n",
              "      <td>0</td>\n",
              "      <td>0</td>\n",
              "      <td>...</td>\n",
              "      <td>False</td>\n",
              "      <td>False</td>\n",
              "      <td>False</td>\n",
              "      <td>True</td>\n",
              "      <td>True</td>\n",
              "      <td>False</td>\n",
              "      <td>False</td>\n",
              "      <td>True</td>\n",
              "      <td>False</td>\n",
              "      <td>False</td>\n",
              "    </tr>\n",
              "    <tr>\n",
              "      <th>3</th>\n",
              "      <td>4</td>\n",
              "      <td>51.0</td>\n",
              "      <td>0</td>\n",
              "      <td>43.0</td>\n",
              "      <td>241</td>\n",
              "      <td>1</td>\n",
              "      <td>1</td>\n",
              "      <td>0</td>\n",
              "      <td>0</td>\n",
              "      <td>0</td>\n",
              "      <td>...</td>\n",
              "      <td>False</td>\n",
              "      <td>False</td>\n",
              "      <td>False</td>\n",
              "      <td>False</td>\n",
              "      <td>False</td>\n",
              "      <td>False</td>\n",
              "      <td>True</td>\n",
              "      <td>False</td>\n",
              "      <td>False</td>\n",
              "      <td>False</td>\n",
              "    </tr>\n",
              "    <tr>\n",
              "      <th>4</th>\n",
              "      <td>5</td>\n",
              "      <td>37.0</td>\n",
              "      <td>0</td>\n",
              "      <td>19.7</td>\n",
              "      <td>178</td>\n",
              "      <td>0</td>\n",
              "      <td>0</td>\n",
              "      <td>0</td>\n",
              "      <td>0</td>\n",
              "      <td>0</td>\n",
              "      <td>...</td>\n",
              "      <td>False</td>\n",
              "      <td>False</td>\n",
              "      <td>False</td>\n",
              "      <td>False</td>\n",
              "      <td>False</td>\n",
              "      <td>False</td>\n",
              "      <td>True</td>\n",
              "      <td>True</td>\n",
              "      <td>False</td>\n",
              "      <td>False</td>\n",
              "    </tr>\n",
              "  </tbody>\n",
              "</table>\n",
              "<p>5 rows × 45 columns</p>\n",
              "</div>\n",
              "    <div class=\"colab-df-buttons\">\n",
              "\n",
              "  <div class=\"colab-df-container\">\n",
              "    <button class=\"colab-df-convert\" onclick=\"convertToInteractive('df-8f3d47f6-8d7b-48b2-baf8-7f98a73ccf2a')\"\n",
              "            title=\"Convert this dataframe to an interactive table.\"\n",
              "            style=\"display:none;\">\n",
              "\n",
              "  <svg xmlns=\"http://www.w3.org/2000/svg\" height=\"24px\" viewBox=\"0 -960 960 960\">\n",
              "    <path d=\"M120-120v-720h720v720H120Zm60-500h600v-160H180v160Zm220 220h160v-160H400v160Zm0 220h160v-160H400v160ZM180-400h160v-160H180v160Zm440 0h160v-160H620v160ZM180-180h160v-160H180v160Zm440 0h160v-160H620v160Z\"/>\n",
              "  </svg>\n",
              "    </button>\n",
              "\n",
              "  <style>\n",
              "    .colab-df-container {\n",
              "      display:flex;\n",
              "      gap: 12px;\n",
              "    }\n",
              "\n",
              "    .colab-df-convert {\n",
              "      background-color: #E8F0FE;\n",
              "      border: none;\n",
              "      border-radius: 50%;\n",
              "      cursor: pointer;\n",
              "      display: none;\n",
              "      fill: #1967D2;\n",
              "      height: 32px;\n",
              "      padding: 0 0 0 0;\n",
              "      width: 32px;\n",
              "    }\n",
              "\n",
              "    .colab-df-convert:hover {\n",
              "      background-color: #E2EBFA;\n",
              "      box-shadow: 0px 1px 2px rgba(60, 64, 67, 0.3), 0px 1px 3px 1px rgba(60, 64, 67, 0.15);\n",
              "      fill: #174EA6;\n",
              "    }\n",
              "\n",
              "    .colab-df-buttons div {\n",
              "      margin-bottom: 4px;\n",
              "    }\n",
              "\n",
              "    [theme=dark] .colab-df-convert {\n",
              "      background-color: #3B4455;\n",
              "      fill: #D2E3FC;\n",
              "    }\n",
              "\n",
              "    [theme=dark] .colab-df-convert:hover {\n",
              "      background-color: #434B5C;\n",
              "      box-shadow: 0px 1px 3px 1px rgba(0, 0, 0, 0.15);\n",
              "      filter: drop-shadow(0px 1px 2px rgba(0, 0, 0, 0.3));\n",
              "      fill: #FFFFFF;\n",
              "    }\n",
              "  </style>\n",
              "\n",
              "    <script>\n",
              "      const buttonEl =\n",
              "        document.querySelector('#df-8f3d47f6-8d7b-48b2-baf8-7f98a73ccf2a button.colab-df-convert');\n",
              "      buttonEl.style.display =\n",
              "        google.colab.kernel.accessAllowed ? 'block' : 'none';\n",
              "\n",
              "      async function convertToInteractive(key) {\n",
              "        const element = document.querySelector('#df-8f3d47f6-8d7b-48b2-baf8-7f98a73ccf2a');\n",
              "        const dataTable =\n",
              "          await google.colab.kernel.invokeFunction('convertToInteractive',\n",
              "                                                    [key], {});\n",
              "        if (!dataTable) return;\n",
              "\n",
              "        const docLinkHtml = 'Like what you see? Visit the ' +\n",
              "          '<a target=\"_blank\" href=https://colab.research.google.com/notebooks/data_table.ipynb>data table notebook</a>'\n",
              "          + ' to learn more about interactive tables.';\n",
              "        element.innerHTML = '';\n",
              "        dataTable['output_type'] = 'display_data';\n",
              "        await google.colab.output.renderOutput(dataTable, element);\n",
              "        const docLink = document.createElement('div');\n",
              "        docLink.innerHTML = docLinkHtml;\n",
              "        element.appendChild(docLink);\n",
              "      }\n",
              "    </script>\n",
              "  </div>\n",
              "\n",
              "\n",
              "    <div id=\"df-d079d26b-b8df-4a7f-9907-f731b097788f\">\n",
              "      <button class=\"colab-df-quickchart\" onclick=\"quickchart('df-d079d26b-b8df-4a7f-9907-f731b097788f')\"\n",
              "                title=\"Suggest charts\"\n",
              "                style=\"display:none;\">\n",
              "\n",
              "<svg xmlns=\"http://www.w3.org/2000/svg\" height=\"24px\"viewBox=\"0 0 24 24\"\n",
              "     width=\"24px\">\n",
              "    <g>\n",
              "        <path d=\"M19 3H5c-1.1 0-2 .9-2 2v14c0 1.1.9 2 2 2h14c1.1 0 2-.9 2-2V5c0-1.1-.9-2-2-2zM9 17H7v-7h2v7zm4 0h-2V7h2v10zm4 0h-2v-4h2v4z\"/>\n",
              "    </g>\n",
              "</svg>\n",
              "      </button>\n",
              "\n",
              "<style>\n",
              "  .colab-df-quickchart {\n",
              "      --bg-color: #E8F0FE;\n",
              "      --fill-color: #1967D2;\n",
              "      --hover-bg-color: #E2EBFA;\n",
              "      --hover-fill-color: #174EA6;\n",
              "      --disabled-fill-color: #AAA;\n",
              "      --disabled-bg-color: #DDD;\n",
              "  }\n",
              "\n",
              "  [theme=dark] .colab-df-quickchart {\n",
              "      --bg-color: #3B4455;\n",
              "      --fill-color: #D2E3FC;\n",
              "      --hover-bg-color: #434B5C;\n",
              "      --hover-fill-color: #FFFFFF;\n",
              "      --disabled-bg-color: #3B4455;\n",
              "      --disabled-fill-color: #666;\n",
              "  }\n",
              "\n",
              "  .colab-df-quickchart {\n",
              "    background-color: var(--bg-color);\n",
              "    border: none;\n",
              "    border-radius: 50%;\n",
              "    cursor: pointer;\n",
              "    display: none;\n",
              "    fill: var(--fill-color);\n",
              "    height: 32px;\n",
              "    padding: 0;\n",
              "    width: 32px;\n",
              "  }\n",
              "\n",
              "  .colab-df-quickchart:hover {\n",
              "    background-color: var(--hover-bg-color);\n",
              "    box-shadow: 0 1px 2px rgba(60, 64, 67, 0.3), 0 1px 3px 1px rgba(60, 64, 67, 0.15);\n",
              "    fill: var(--button-hover-fill-color);\n",
              "  }\n",
              "\n",
              "  .colab-df-quickchart-complete:disabled,\n",
              "  .colab-df-quickchart-complete:disabled:hover {\n",
              "    background-color: var(--disabled-bg-color);\n",
              "    fill: var(--disabled-fill-color);\n",
              "    box-shadow: none;\n",
              "  }\n",
              "\n",
              "  .colab-df-spinner {\n",
              "    border: 2px solid var(--fill-color);\n",
              "    border-color: transparent;\n",
              "    border-bottom-color: var(--fill-color);\n",
              "    animation:\n",
              "      spin 1s steps(1) infinite;\n",
              "  }\n",
              "\n",
              "  @keyframes spin {\n",
              "    0% {\n",
              "      border-color: transparent;\n",
              "      border-bottom-color: var(--fill-color);\n",
              "      border-left-color: var(--fill-color);\n",
              "    }\n",
              "    20% {\n",
              "      border-color: transparent;\n",
              "      border-left-color: var(--fill-color);\n",
              "      border-top-color: var(--fill-color);\n",
              "    }\n",
              "    30% {\n",
              "      border-color: transparent;\n",
              "      border-left-color: var(--fill-color);\n",
              "      border-top-color: var(--fill-color);\n",
              "      border-right-color: var(--fill-color);\n",
              "    }\n",
              "    40% {\n",
              "      border-color: transparent;\n",
              "      border-right-color: var(--fill-color);\n",
              "      border-top-color: var(--fill-color);\n",
              "    }\n",
              "    60% {\n",
              "      border-color: transparent;\n",
              "      border-right-color: var(--fill-color);\n",
              "    }\n",
              "    80% {\n",
              "      border-color: transparent;\n",
              "      border-right-color: var(--fill-color);\n",
              "      border-bottom-color: var(--fill-color);\n",
              "    }\n",
              "    90% {\n",
              "      border-color: transparent;\n",
              "      border-bottom-color: var(--fill-color);\n",
              "    }\n",
              "  }\n",
              "</style>\n",
              "\n",
              "      <script>\n",
              "        async function quickchart(key) {\n",
              "          const quickchartButtonEl =\n",
              "            document.querySelector('#' + key + ' button');\n",
              "          quickchartButtonEl.disabled = true;  // To prevent multiple clicks.\n",
              "          quickchartButtonEl.classList.add('colab-df-spinner');\n",
              "          try {\n",
              "            const charts = await google.colab.kernel.invokeFunction(\n",
              "                'suggestCharts', [key], {});\n",
              "          } catch (error) {\n",
              "            console.error('Error during call to suggestCharts:', error);\n",
              "          }\n",
              "          quickchartButtonEl.classList.remove('colab-df-spinner');\n",
              "          quickchartButtonEl.classList.add('colab-df-quickchart-complete');\n",
              "        }\n",
              "        (() => {\n",
              "          let quickchartButtonEl =\n",
              "            document.querySelector('#df-d079d26b-b8df-4a7f-9907-f731b097788f button');\n",
              "          quickchartButtonEl.style.display =\n",
              "            google.colab.kernel.accessAllowed ? 'block' : 'none';\n",
              "        })();\n",
              "      </script>\n",
              "    </div>\n",
              "\n",
              "    </div>\n",
              "  </div>\n"
            ],
            "application/vnd.google.colaboratory.intrinsic+json": {
              "type": "dataframe",
              "variable_name": "df"
            }
          },
          "metadata": {},
          "execution_count": 13
        }
      ],
      "execution_count": null
    },
    {
      "cell_type": "code",
      "source": [
        "df = df.astype({col: 'int' for col in df.select_dtypes('bool').columns})"
      ],
      "metadata": {
        "trusted": true,
        "execution": {
          "iopub.status.busy": "2025-06-30T03:10:41.938Z",
          "iopub.execute_input": "2025-06-30T03:10:41.938311Z",
          "iopub.status.idle": "2025-06-30T03:10:42.196274Z",
          "shell.execute_reply.started": "2025-06-30T03:10:41.938289Z",
          "shell.execute_reply": "2025-06-30T03:10:42.195022Z"
        },
        "id": "MxxBy7xHZjxE"
      },
      "outputs": [],
      "execution_count": 42
    },
    {
      "cell_type": "markdown",
      "source": [
        "# ***Select Ensemble Model Type***"
      ],
      "metadata": {
        "id": "IfojO2ImZjxE"
      }
    },
    {
      "cell_type": "code",
      "source": [
        "from sklearn.model_selection import train_test_split\n",
        "\n",
        "X = df.drop(['id','survived'],axis=1)\n",
        "y = df['survived']\n",
        "\n",
        "X_train, X_test, y_train, y_test = train_test_split(X, y, test_size=0.33, random_state=4)"
      ],
      "metadata": {
        "trusted": true,
        "execution": {
          "iopub.status.busy": "2025-06-30T03:14:49.851063Z",
          "iopub.execute_input": "2025-06-30T03:14:49.852077Z",
          "iopub.status.idle": "2025-06-30T03:14:52.054076Z",
          "shell.execute_reply.started": "2025-06-30T03:14:49.852037Z",
          "shell.execute_reply": "2025-06-30T03:14:52.053036Z"
        },
        "id": "s_CQ5vPvZjxE"
      },
      "outputs": [],
      "execution_count": null
    },
    {
      "cell_type": "code",
      "source": [
        "from xgboost import XGBClassifier\n",
        "from sklearn.model_selection import train_test_split\n",
        "from sklearn.metrics import accuracy_score\n",
        "\n",
        "model = XGBClassifier(use_label_encoder=False, eval_metric='logloss')\n",
        "model.fit(X_train, y_train)\n"
      ],
      "metadata": {
        "trusted": true,
        "execution": {
          "iopub.status.busy": "2025-06-30T03:16:04.236301Z",
          "iopub.execute_input": "2025-06-30T03:16:04.236978Z",
          "iopub.status.idle": "2025-06-30T03:16:10.532125Z",
          "shell.execute_reply.started": "2025-06-30T03:16:04.236943Z",
          "shell.execute_reply": "2025-06-30T03:16:10.530803Z"
        },
        "collapsed": true,
        "id": "Np6wP0BKZjxE"
      },
      "outputs": [],
      "execution_count": null
    },
    {
      "cell_type": "code",
      "source": [
        "y_pred = model.predict(X_test)\n",
        "print(\"Accuracy:\", accuracy_score(y_test, y_pred))"
      ],
      "metadata": {
        "trusted": true,
        "execution": {
          "iopub.status.busy": "2025-06-30T03:16:18.564324Z",
          "iopub.execute_input": "2025-06-30T03:16:18.564713Z",
          "iopub.status.idle": "2025-06-30T03:16:19.015199Z",
          "shell.execute_reply.started": "2025-06-30T03:16:18.564689Z",
          "shell.execute_reply": "2025-06-30T03:16:19.014123Z"
        },
        "colab": {
          "base_uri": "https://localhost:8080/"
        },
        "id": "UnT57ZCtZjxE",
        "outputId": "47d1e3b5-5b9a-402b-8cb0-69dc6fb22ee0"
      },
      "outputs": [
        {
          "output_type": "stream",
          "name": "stdout",
          "text": [
            "Accuracy: 0.7795880149812734\n"
          ]
        }
      ],
      "execution_count": null
    },
    {
      "cell_type": "code",
      "source": [
        "from sklearn.metrics import accuracy_score, precision_score, recall_score\n",
        "\n",
        "print(\"Precision:\", precision_score(y_test, y_pred, average='binary'))\n",
        "print(\"Recall:\", recall_score(y_test, y_pred, average='binary'))"
      ],
      "metadata": {
        "trusted": true,
        "execution": {
          "iopub.status.busy": "2025-06-30T03:16:58.81508Z",
          "iopub.execute_input": "2025-06-30T03:16:58.815539Z",
          "iopub.status.idle": "2025-06-30T03:16:59.014536Z",
          "shell.execute_reply.started": "2025-06-30T03:16:58.815509Z",
          "shell.execute_reply": "2025-06-30T03:16:59.013376Z"
        },
        "colab": {
          "base_uri": "https://localhost:8080/"
        },
        "id": "qq_ZXGoPZjxE",
        "outputId": "d6b8dfc7-8c17-48ec-9336-c8e653a6b34b"
      },
      "outputs": [
        {
          "output_type": "stream",
          "name": "stdout",
          "text": [
            "Precision: 0.18421052631578946\n",
            "Recall: 0.00010817326266013507\n"
          ]
        }
      ],
      "execution_count": null
    },
    {
      "cell_type": "code",
      "source": [
        "from sklearn.metrics import roc_curve, auc\n",
        "import matplotlib.pyplot as plt\n",
        "y_proba = model.predict_proba(X_test)[:, 1]\n",
        "fpr, tpr, thresholds = roc_curve(y_test, y_proba)\n",
        "roc_auc = auc(fpr, tpr)\n",
        "\n",
        "plt.figure()\n",
        "plt.plot(fpr, tpr, color='darkorange', lw=2, label=f'ROC curve (AUC = {roc_auc:.2f})')\n",
        "plt.plot([0, 1], [0, 1], color='navy', lw=2, linestyle='--')\n",
        "plt.xlabel('False Positive Rate')\n",
        "plt.ylabel('True Positive Rate')\n",
        "plt.title('Receiver Operating Characteristic (ROC)')\n",
        "plt.legend(loc='lower right')\n",
        "plt.grid()\n",
        "plt.show()"
      ],
      "metadata": {
        "trusted": true,
        "execution": {
          "iopub.status.busy": "2025-06-30T03:19:12.885142Z",
          "iopub.execute_input": "2025-06-30T03:19:12.885553Z",
          "iopub.status.idle": "2025-06-30T03:19:13.737279Z",
          "shell.execute_reply.started": "2025-06-30T03:19:12.885523Z",
          "shell.execute_reply": "2025-06-30T03:19:13.736142Z"
        },
        "colab": {
          "base_uri": "https://localhost:8080/",
          "height": 472
        },
        "id": "kbxxBCIkZjxE",
        "outputId": "ec7bf390-208a-4b23-80aa-ddcc07934a49"
      },
      "outputs": [
        {
          "output_type": "display_data",
          "data": {
            "text/plain": [
              "<Figure size 640x480 with 1 Axes>"
            ],
            "image/png": "[encoded data removed]"
          },
          "metadata": {}
        }
      ],
      "execution_count": null
    },
    {
      "cell_type": "markdown",
      "source": [
        "## ***The Model Outputs below Average Results***"
      ],
      "metadata": {
        "id": "AI79JUiVZjxE"
      }
    },
    {
      "cell_type": "code",
      "source": [
        "from sklearn.linear_model import LogisticRegression\n",
        "\n",
        "log_reg = LogisticRegression(max_iter=1000)\n",
        "log_reg.fit(X_train, y_train)\n",
        "\n",
        "y_pred_lr = log_reg.predict(X_test)\n",
        "y_proba_lr = log_reg.predict_proba(X_test)[:, 1]"
      ],
      "metadata": {
        "trusted": true,
        "execution": {
          "iopub.status.busy": "2025-06-30T03:19:57.165238Z",
          "iopub.execute_input": "2025-06-30T03:19:57.165617Z",
          "iopub.status.idle": "2025-06-30T03:20:28.902713Z",
          "shell.execute_reply.started": "2025-06-30T03:19:57.165592Z",
          "shell.execute_reply": "2025-06-30T03:20:28.901697Z"
        },
        "id": "-yAJ6WIQZjxE"
      },
      "outputs": [],
      "execution_count": null
    },
    {
      "cell_type": "code",
      "source": [
        "from sklearn.metrics import accuracy_score, precision_score, recall_score\n",
        "\n",
        "print(\"Logistic Regression Accuracy:\", accuracy_score(y_test, y_pred_lr))\n",
        "print(\"Logistic Regression Precision:\", precision_score(y_test, y_pred_lr))\n",
        "print(\"Logistic Regression Recall:\", recall_score(y_test, y_pred_lr))"
      ],
      "metadata": {
        "trusted": true,
        "execution": {
          "iopub.status.busy": "2025-06-30T03:20:32.415209Z",
          "iopub.execute_input": "2025-06-30T03:20:32.415599Z",
          "iopub.status.idle": "2025-06-30T03:20:32.656675Z",
          "shell.execute_reply.started": "2025-06-30T03:20:32.415572Z",
          "shell.execute_reply": "2025-06-30T03:20:32.655342Z"
        },
        "colab": {
          "base_uri": "https://localhost:8080/"
        },
        "id": "leBdrb5TZjxF",
        "outputId": "6500450f-2e55-40c4-fb10-b4dfeea4aac2"
      },
      "outputs": [
        {
          "output_type": "stream",
          "name": "stdout",
          "text": [
            "Logistic Regression Accuracy: 0.7796697310180456\n",
            "Logistic Regression Precision: 0.0\n",
            "Logistic Regression Recall: 0.0\n"
          ]
        },
        {
          "output_type": "stream",
          "name": "stderr",
          "text": [
            "/usr/local/lib/python3.12/dist-packages/sklearn/metrics/_classification.py:1565: UndefinedMetricWarning: Precision is ill-defined and being set to 0.0 due to no predicted samples. Use `zero_division` parameter to control this behavior.\n",
            "  _warn_prf(average, modifier, f\"{metric.capitalize()} is\", len(result))\n"
          ]
        }
      ],
      "execution_count": null
    },
    {
      "cell_type": "code",
      "source": [
        "from sklearn.metrics import roc_curve, auc\n",
        "\n",
        "fpr_lr, tpr_lr, _ = roc_curve(y_test, y_proba_lr)\n",
        "roc_auc_lr = auc(fpr_lr, tpr_lr)\n",
        "\n",
        "plt.figure()\n",
        "plt.plot(fpr_lr, tpr_lr, color='green', lw=2, label=f'LogReg ROC (AUC = {roc_auc_lr:.2f})')\n",
        "plt.plot([0, 1], [0, 1], color='gray', lw=1, linestyle='--')\n",
        "plt.xlabel('False Positive Rate')\n",
        "plt.ylabel('True Positive Rate')\n",
        "plt.title('ROC Curve - Logistic Regression')\n",
        "plt.legend(loc='lower right')\n",
        "plt.grid()\n",
        "plt.show()"
      ],
      "metadata": {
        "trusted": true,
        "execution": {
          "iopub.status.busy": "2025-06-30T03:20:50.03909Z",
          "iopub.execute_input": "2025-06-30T03:20:50.039442Z",
          "iopub.status.idle": "2025-06-30T03:20:50.306884Z",
          "shell.execute_reply.started": "2025-06-30T03:20:50.039393Z",
          "shell.execute_reply": "2025-06-30T03:20:50.305886Z"
        },
        "colab": {
          "base_uri": "https://localhost:8080/",
          "height": 472
        },
        "id": "wyXqTYK4ZjxF",
        "outputId": "4288d063-e6d9-418a-faad-347dcc36b2aa"
      },
      "outputs": [
        {
          "output_type": "display_data",
          "data": {
            "text/plain": [
              "<Figure size 640x480 with 1 Axes>"
            ],
            "image/png": "[encoded data removed]"
          },
          "metadata": {}
        }
      ],
      "execution_count": null
    },
    {
      "cell_type": "markdown",
      "source": [
        "# ***Test Prompt***\n",
        "\n"
      ],
      "metadata": {
        "id": "Pxa5Fkgt988p"
      }
    },
    {
      "cell_type": "code",
      "metadata": {
        "id": "91f8b39d"
      },
      "source": [
        "# This dictionary displays factitious patient data\n",
        "user_input = {\n",
        "    'age': 65,\n",
        "    'gender': 'Female',\n",
        "    'country': 'USA',\n",
        "    'cancer_stage': 'Stage II',\n",
        "    'cholesterol_level': '182',\n",
        "    'asthma': '0',\n",
        "    'family_history_Yes': '1'\n",
        "}"
      ],
      "execution_count": 32,
      "outputs": []
    },
    {
      "cell_type": "code",
      "metadata": {
        "colab": {
          "base_uri": "https://localhost:8080/",
          "height": 147
        },
        "id": "4PzWyqJ69sqt",
        "outputId": "e2641951-84f3-45a9-9c12-0cc80be540fd"
      },
      "source": [
        "user_df = pd.DataFrame([user_input])\n",
        "\n",
        "stage_order = ['Stage I', 'Stage II', 'Stage III', 'Stage IV']\n",
        "user_df['cancer_stage'] = user_df['cancer_stage'].apply(lambda x: stage_order.index(x) if x in stage_order else -1)\n",
        "\n",
        "columns_to_encode = ['gender', 'country', 'family_history', 'smoking_status', 'treatment_type']\n",
        "\n",
        "for col in columns_to_encode:\n",
        "    if col not in user_df.columns:\n",
        "        user_df[col] = None # Add missing categorical columns\n",
        "\n",
        "user_df = pd.get_dummies(user_df, columns=columns_to_encode, drop_first=True)\n",
        "\n",
        "missing_cols = set(X_train.columns) - set(user_df.columns)\n",
        "for c in missing_cols:\n",
        "    user_df[c] = 0\n",
        "\n",
        "user_df = user_df[X_train.columns]\n",
        "\n",
        "user_df = user_df.astype(X_train.dtypes)\n",
        "\n",
        "display(user_df)"
      ],
      "execution_count": 37,
      "outputs": [
        {
          "output_type": "display_data",
          "data": {
            "text/plain": [
              "    age  cancer_stage  bmi  cholesterol_level  hypertension  asthma  \\\n",
              "0  65.0             1  0.0                182             0       0   \n",
              "\n",
              "   cirrhosis  other_cancer  treatment_duration_days  gender_Male  ...  \\\n",
              "0          0             0                        0            0  ...   \n",
              "\n",
              "   country_Slovenia  country_Spain  country_Sweden  family_history_Yes  \\\n",
              "0                 0              0               0                   1   \n",
              "\n",
              "   smoking_status_Former Smoker  smoking_status_Never Smoked  \\\n",
              "0                             0                            0   \n",
              "\n",
              "   smoking_status_Passive Smoker  treatment_type_Combined  \\\n",
              "0                              0                        0   \n",
              "\n",
              "   treatment_type_Radiation  treatment_type_Surgery  \n",
              "0                         0                       0  \n",
              "\n",
              "[1 rows x 43 columns]"
            ],
            "text/html": [
              "\n",
              "  <div id=\"df-771cb353-d78d-4052-aa9f-d38733e12752\" class=\"colab-df-container\">\n",
              "    <div>\n",
              "<style scoped>\n",
              "    .dataframe tbody tr th:only-of-type {\n",
              "        vertical-align: middle;\n",
              "    }\n",
              "\n",
              "    .dataframe tbody tr th {\n",
              "        vertical-align: top;\n",
              "    }\n",
              "\n",
              "    .dataframe thead th {\n",
              "        text-align: right;\n",
              "    }\n",
              "</style>\n",
              "<table border=\"1\" class=\"dataframe\">\n",
              "  <thead>\n",
              "    <tr style=\"text-align: right;\">\n",
              "      <th></th>\n",
              "      <th>age</th>\n",
              "      <th>cancer_stage</th>\n",
              "      <th>bmi</th>\n",
              "      <th>cholesterol_level</th>\n",
              "      <th>hypertension</th>\n",
              "      <th>asthma</th>\n",
              "      <th>cirrhosis</th>\n",
              "      <th>other_cancer</th>\n",
              "      <th>treatment_duration_days</th>\n",
              "      <th>gender_Male</th>\n",
              "      <th>...</th>\n",
              "      <th>country_Slovenia</th>\n",
              "      <th>country_Spain</th>\n",
              "      <th>country_Sweden</th>\n",
              "      <th>family_history_Yes</th>\n",
              "      <th>smoking_status_Former Smoker</th>\n",
              "      <th>smoking_status_Never Smoked</th>\n",
              "      <th>smoking_status_Passive Smoker</th>\n",
              "      <th>treatment_type_Combined</th>\n",
              "      <th>treatment_type_Radiation</th>\n",
              "      <th>treatment_type_Surgery</th>\n",
              "    </tr>\n",
              "  </thead>\n",
              "  <tbody>\n",
              "    <tr>\n",
              "      <th>0</th>\n",
              "      <td>65.0</td>\n",
              "      <td>1</td>\n",
              "      <td>0.0</td>\n",
              "      <td>182</td>\n",
              "      <td>0</td>\n",
              "      <td>0</td>\n",
              "      <td>0</td>\n",
              "      <td>0</td>\n",
              "      <td>0</td>\n",
              "      <td>0</td>\n",
              "      <td>...</td>\n",
              "      <td>0</td>\n",
              "      <td>0</td>\n",
              "      <td>0</td>\n",
              "      <td>1</td>\n",
              "      <td>0</td>\n",
              "      <td>0</td>\n",
              "      <td>0</td>\n",
              "      <td>0</td>\n",
              "      <td>0</td>\n",
              "      <td>0</td>\n",
              "    </tr>\n",
              "  </tbody>\n",
              "</table>\n",
              "<p>1 rows × 43 columns</p>\n",
              "</div>\n",
              "    <div class=\"colab-df-buttons\">\n",
              "\n",
              "  <div class=\"colab-df-container\">\n",
              "    <button class=\"colab-df-convert\" onclick=\"convertToInteractive('df-771cb353-d78d-4052-aa9f-d38733e12752')\"\n",
              "            title=\"Convert this dataframe to an interactive table.\"\n",
              "            style=\"display:none;\">\n",
              "\n",
              "  <svg xmlns=\"http://www.w3.org/2000/svg\" height=\"24px\" viewBox=\"0 -960 960 960\">\n",
              "    <path d=\"M120-120v-720h720v720H120Zm60-500h600v-160H180v160Zm220 220h160v-160H400v160Zm0 220h160v-160H400v160ZM180-400h160v-160H180v160Zm440 0h160v-160H620v160ZM180-180h160v-160H180v160Zm440 0h160v-160H620v160Z\"/>\n",
              "  </svg>\n",
              "    </button>\n",
              "\n",
              "  <style>\n",
              "    .colab-df-container {\n",
              "      display:flex;\n",
              "      gap: 12px;\n",
              "    }\n",
              "\n",
              "    .colab-df-convert {\n",
              "      background-color: #E8F0FE;\n",
              "      border: none;\n",
              "      border-radius: 50%;\n",
              "      cursor: pointer;\n",
              "      display: none;\n",
              "      fill: #1967D2;\n",
              "      height: 32px;\n",
              "      padding: 0 0 0 0;\n",
              "      width: 32px;\n",
              "    }\n",
              "\n",
              "    .colab-df-convert:hover {\n",
              "      background-color: #E2EBFA;\n",
              "      box-shadow: 0px 1px 2px rgba(60, 64, 67, 0.3), 0px 1px 3px 1px rgba(60, 64, 67, 0.15);\n",
              "      fill: #174EA6;\n",
              "    }\n",
              "\n",
              "    .colab-df-buttons div {\n",
              "      margin-bottom: 4px;\n",
              "    }\n",
              "\n",
              "    [theme=dark] .colab-df-convert {\n",
              "      background-color: #3B4455;\n",
              "      fill: #D2E3FC;\n",
              "    }\n",
              "\n",
              "    [theme=dark] .colab-df-convert:hover {\n",
              "      background-color: #434B5C;\n",
              "      box-shadow: 0px 1px 3px 1px rgba(0, 0, 0, 0.15);\n",
              "      filter: drop-shadow(0px 1px 2px rgba(0, 0, 0, 0.3));\n",
              "      fill: #FFFFFF;\n",
              "    }\n",
              "  </style>\n",
              "\n",
              "    <script>\n",
              "      const buttonEl =\n",
              "        document.querySelector('#df-771cb353-d78d-4052-aa9f-d38733e12752 button.colab-df-convert');\n",
              "      buttonEl.style.display =\n",
              "        google.colab.kernel.accessAllowed ? 'block' : 'none';\n",
              "\n",
              "      async function convertToInteractive(key) {\n",
              "        const element = document.querySelector('#df-771cb353-d78d-4052-aa9f-d38733e12752');\n",
              "        const dataTable =\n",
              "          await google.colab.kernel.invokeFunction('convertToInteractive',\n",
              "                                                    [key], {});\n",
              "        if (!dataTable) return;\n",
              "\n",
              "        const docLinkHtml = 'Like what you see? Visit the ' +\n",
              "          '<a target=\"_blank\" href=https://colab.research.google.com/notebooks/data_table.ipynb>data table notebook</a>'\n",
              "          + ' to learn more about interactive tables.';\n",
              "        element.innerHTML = '';\n",
              "        dataTable['output_type'] = 'display_data';\n",
              "        await google.colab.output.renderOutput(dataTable, element);\n",
              "        const docLink = document.createElement('div');\n",
              "        docLink.innerHTML = docLinkHtml;\n",
              "        element.appendChild(docLink);\n",
              "      }\n",
              "    </script>\n",
              "  </div>\n",
              "\n",
              "\n",
              "  <div id=\"id_b061e1eb-fd92-466c-91ec-a338bc42c692\">\n",
              "    <style>\n",
              "      .colab-df-generate {\n",
              "        background-color: #E8F0FE;\n",
              "        border: none;\n",
              "        border-radius: 50%;\n",
              "        cursor: pointer;\n",
              "        display: none;\n",
              "        fill: #1967D2;\n",
              "        height: 32px;\n",
              "        padding: 0 0 0 0;\n",
              "        width: 32px;\n",
              "      }\n",
              "\n",
              "      .colab-df-generate:hover {\n",
              "        background-color: #E2EBFA;\n",
              "        box-shadow: 0px 1px 2px rgba(60, 64, 67, 0.3), 0px 1px 3px 1px rgba(60, 64, 67, 0.15);\n",
              "        fill: #174EA6;\n",
              "      }\n",
              "\n",
              "      [theme=dark] .colab-df-generate {\n",
              "        background-color: #3B4455;\n",
              "        fill: #D2E3FC;\n",
              "      }\n",
              "\n",
              "      [theme=dark] .colab-df-generate:hover {\n",
              "        background-color: #434B5C;\n",
              "        box-shadow: 0px 1px 3px 1px rgba(0, 0, 0, 0.15);\n",
              "        filter: drop-shadow(0px 1px 2px rgba(0, 0, 0, 0.3));\n",
              "        fill: #FFFFFF;\n",
              "      }\n",
              "    </style>\n",
              "    <button class=\"colab-df-generate\" onclick=\"generateWithVariable('user_df')\"\n",
              "            title=\"Generate code using this dataframe.\"\n",
              "            style=\"display:none;\">\n",
              "\n",
              "  <svg xmlns=\"http://www.w3.org/2000/svg\" height=\"24px\"viewBox=\"0 0 24 24\"\n",
              "       width=\"24px\">\n",
              "    <path d=\"M7,19H8.4L18.45,9,17,7.55,7,17.6ZM5,21V16.75L18.45,3.32a2,2,0,0,1,2.83,0l1.4,1.43a1.91,1.91,0,0,1,.58,1.4,1.91,1.91,0,0,1-.58,1.4L9.25,21ZM18.45,9,17,7.55Zm-12,3A5.31,5.31,0,0,0,4.9,8.1,5.31,5.31,0,0,0,1,6.5,5.31,5.31,0,0,0,4.9,4.9,5.31,5.31,0,0,0,6.5,1,5.31,5.31,0,0,0,8.1,4.9,5.31,5.31,0,0,0,12,6.5,5.46,5.46,0,0,0,6.5,12Z\"/>\n",
              "  </svg>\n",
              "    </button>\n",
              "    <script>\n",
              "      (() => {\n",
              "      const buttonEl =\n",
              "        document.querySelector('#id_b061e1eb-fd92-466c-91ec-a338bc42c692 button.colab-df-generate');\n",
              "      buttonEl.style.display =\n",
              "        google.colab.kernel.accessAllowed ? 'block' : 'none';\n",
              "\n",
              "      buttonEl.onclick = () => {\n",
              "        google.colab.notebook.generateWithVariable('user_df');\n",
              "      }\n",
              "      })();\n",
              "    </script>\n",
              "  </div>\n",
              "\n",
              "    </div>\n",
              "  </div>\n"
            ],
            "application/vnd.google.colaboratory.intrinsic+json": {
              "type": "dataframe",
              "variable_name": "user_df"
            }
          },
          "metadata": {}
        }
      ]
    },
    {
      "cell_type": "markdown",
      "metadata": {
        "id": "03cca7db"
      },
      "source": [
        "**Explanation**:\n",
        "Use the trained XGBoost model to predict the survival outcome and the probability of survival for the preprocessed user input.\n",
        "\n"
      ]
    },
    {
      "cell_type": "code",
      "metadata": {
        "colab": {
          "base_uri": "https://localhost:8080/"
        },
        "id": "165d8999",
        "outputId": "bad85d8f-4ea1-4801-dce4-366898e4f08f"
      },
      "source": [
        "prediction = model.predict(user_df)\n",
        "prediction_probability = model.predict_proba(user_df)[:, 1]\n",
        "\n",
        "print(\"Predicted Survival Outcome:\", prediction[0])\n",
        "print(\"Predicted Survival Probability: {:.2f}\".format(prediction_probability[0]))"
      ],
      "execution_count": 41,
      "outputs": [
        {
          "output_type": "stream",
          "name": "stdout",
          "text": [
            "Predicted Survival Outcome: 0\n",
            "Predicted Survival Probability: 0.23\n"
          ]
        }
      ]
    },
    {
      "cell_type": "markdown",
      "metadata": {
        "id": "56fbcb25"
      },
      "source": [
        "## Summary:\n",
        "\n",
        "### Data Analysis Key Findings\n",
        "\n",
        "*   The user input was successfully transformed into a pandas DataFrame matching the structure and data types of the training data, containing 43 columns and 1 row.\n",
        "*   The trained XGBoost model predicted a survival outcome of 0 for the test patient.\n",
        "*   The predicted probability of survival for the test patient is 0.23.\n",
        "\n",
        "### Insights or Next Steps\n",
        "\n",
        "*   The low predicted survival probability (0.23) indicates a high risk of non-survival for this specific patient profile according to the model.\n",
        "*   Further analysis could involve understanding the key features that contributed most significantly to this prediction for this particular patient.\n"
      ]
    }
  ]
}