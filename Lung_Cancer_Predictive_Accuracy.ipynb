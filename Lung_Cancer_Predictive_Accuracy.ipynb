{
  "metadata": {
    "kernelspec": {
      "display_name": "Python 3",
      "name": "python3"
    },
    "language_info": {
      "name": "python",
      "version": "3.11.11",
      "mimetype": "text/x-python",
      "codemirror_mode": {
        "name": "ipython",
        "version": 3
      },
      "pygments_lexer": "ipython3",
      "nbconvert_exporter": "python",
      "file_extension": ".py"
    },
    "kaggle": {
      "accelerator": "none",
      "dataSources": [
        {
          "sourceId": 12275572,
          "sourceType": "datasetVersion",
          "datasetId": 7735754
        }
      ],
      "dockerImageVersionId": 31040,
      "isInternetEnabled": false,
      "language": "python",
      "sourceType": "notebook",
      "isGpuEnabled": false
    },
    "colab": {
      "provenance": [],
      "gpuType": "T4",
      "include_colab_link": true
    },
    "accelerator": "GPU"
  },
  "nbformat_minor": 0,
  "nbformat": 4,
  "cells": [
    {
      "cell_type": "markdown",
      "metadata": {
        "id": "view-in-github",
        "colab_type": "text"
      },
      "source": [
        "<a href=\"https://colab.research.google.com/github/MrZuberi/Lung-Cancer-Diagnostic-Tool/blob/main/Lung_Cancer_Predictive_Accuracy.ipynb\" target=\"_parent\"><img src=\"https://colab.research.google.com/assets/colab-badge.svg\" alt=\"Open In Colab\"/></a>"
      ]
    },
    {
      "cell_type": "markdown",
      "source": [
        "# ***Importing Dataset***"
      ],
      "metadata": {
        "id": "q8F5VgY6gUix"
      }
    },
    {
      "source": [
        "import kagglehub\n",
        "khwaishsaxena_lung_cancer_dataset_path = kagglehub.dataset_download('khwaishsaxena/lung-cancer-dataset')\n",
        "\n",
        "print('Data source import complete.')"
      ],
      "metadata": {
        "colab": {
          "base_uri": "https://localhost:8080/"
        },
        "id": "SeSDSA5WZjw-",
        "outputId": "8151d46a-a327-49f6-b5e6-a9f1dd1a23cd"
      },
      "cell_type": "code",
      "outputs": [
        {
          "output_type": "stream",
          "name": "stdout",
          "text": [
            "Data source import complete.\n"
          ]
        }
      ],
      "execution_count": 150
    },
    {
      "cell_type": "markdown",
      "source": [
        "# ***Initial Data Exploration***"
      ],
      "metadata": {
        "id": "ZbswwiRrZjxA"
      }
    },
    {
      "cell_type": "code",
      "source": [
        "import pandas as pd\n",
        "\n",
        "df = pd.read_csv(\"/kaggle/input/lung-cancer-dataset/Lung Cancer.csv\")\n",
        "\n",
        "df.columns"
      ],
      "metadata": {
        "trusted": true,
        "execution": {
          "iopub.status.busy": "2025-06-30T02:55:05.802575Z",
          "iopub.execute_input": "2025-06-30T02:55:05.803585Z",
          "iopub.status.idle": "2025-06-30T02:55:09.418235Z",
          "shell.execute_reply.started": "2025-06-30T02:55:05.803551Z",
          "shell.execute_reply": "2025-06-30T02:55:09.417393Z"
        },
        "id": "q3KE9TFBZjxA",
        "colab": {
          "base_uri": "https://localhost:8080/"
        },
        "outputId": "533e2902-46f0-4f3d-df34-1d849c157a37"
      },
      "outputs": [
        {
          "output_type": "execute_result",
          "data": {
            "text/plain": [
              "Index(['id', 'age', 'gender', 'country', 'diagnosis_date', 'cancer_stage',\n",
              "       'family_history', 'smoking_status', 'bmi', 'cholesterol_level',\n",
              "       'hypertension', 'asthma', 'cirrhosis', 'other_cancer', 'treatment_type',\n",
              "       'end_treatment_date', 'survived'],\n",
              "      dtype='object')"
            ]
          },
          "metadata": {},
          "execution_count": 152
        }
      ],
      "execution_count": 152
    },
    {
      "cell_type": "code",
      "source": [
        "df.head()"
      ],
      "metadata": {
        "trusted": true,
        "execution": {
          "iopub.status.busy": "2025-06-30T02:58:10.186088Z",
          "iopub.execute_input": "2025-06-30T02:58:10.18645Z",
          "iopub.status.idle": "2025-06-30T02:58:10.215667Z",
          "shell.execute_reply.started": "2025-06-30T02:58:10.186406Z",
          "shell.execute_reply": "2025-06-30T02:58:10.214714Z"
        },
        "colab": {
          "base_uri": "https://localhost:8080/",
          "height": 206
        },
        "id": "gKZ7o9yfZjxC",
        "outputId": "9b4781af-86fd-4e1e-ab56-7c0ec3da9561"
      },
      "outputs": [
        {
          "output_type": "execute_result",
          "data": {
            "text/plain": [
              "   id   age  gender      country diagnosis_date cancer_stage family_history  \\\n",
              "0   1  64.0    Male       Sweden     2016-04-05      Stage I            Yes   \n",
              "1   2  50.0  Female  Netherlands     2023-04-20    Stage III            Yes   \n",
              "2   3  65.0  Female      Hungary     2023-04-05    Stage III            Yes   \n",
              "3   4  51.0  Female      Belgium     2016-02-05      Stage I             No   \n",
              "4   5  37.0    Male   Luxembourg     2023-11-29      Stage I             No   \n",
              "\n",
              "   smoking_status   bmi  cholesterol_level  hypertension  asthma  cirrhosis  \\\n",
              "0  Passive Smoker  29.4                199             0       0          1   \n",
              "1  Passive Smoker  41.2                280             1       1          0   \n",
              "2   Former Smoker  44.0                268             1       1          0   \n",
              "3  Passive Smoker  43.0                241             1       1          0   \n",
              "4  Passive Smoker  19.7                178             0       0          0   \n",
              "\n",
              "   other_cancer treatment_type end_treatment_date  survived  \n",
              "0             0   Chemotherapy         2017-09-10         0  \n",
              "1             0        Surgery         2024-06-17         1  \n",
              "2             0       Combined         2024-04-09         0  \n",
              "3             0   Chemotherapy         2017-04-23         0  \n",
              "4             0       Combined         2025-01-08         0  "
            ],
            "text/html": [
              "\n",
              "  <div id=\"df-34ed7c9c-d62e-4606-afdf-54cd03864574\" class=\"colab-df-container\">\n",
              "    <div>\n",
              "<style scoped>\n",
              "    .dataframe tbody tr th:only-of-type {\n",
              "        vertical-align: middle;\n",
              "    }\n",
              "\n",
              "    .dataframe tbody tr th {\n",
              "        vertical-align: top;\n",
              "    }\n",
              "\n",
              "    .dataframe thead th {\n",
              "        text-align: right;\n",
              "    }\n",
              "</style>\n",
              "<table border=\"1\" class=\"dataframe\">\n",
              "  <thead>\n",
              "    <tr style=\"text-align: right;\">\n",
              "      <th></th>\n",
              "      <th>id</th>\n",
              "      <th>age</th>\n",
              "      <th>gender</th>\n",
              "      <th>country</th>\n",
              "      <th>diagnosis_date</th>\n",
              "      <th>cancer_stage</th>\n",
              "      <th>family_history</th>\n",
              "      <th>smoking_status</th>\n",
              "      <th>bmi</th>\n",
              "      <th>cholesterol_level</th>\n",
              "      <th>hypertension</th>\n",
              "      <th>asthma</th>\n",
              "      <th>cirrhosis</th>\n",
              "      <th>other_cancer</th>\n",
              "      <th>treatment_type</th>\n",
              "      <th>end_treatment_date</th>\n",
              "      <th>survived</th>\n",
              "    </tr>\n",
              "  </thead>\n",
              "  <tbody>\n",
              "    <tr>\n",
              "      <th>0</th>\n",
              "      <td>1</td>\n",
              "      <td>64.0</td>\n",
              "      <td>Male</td>\n",
              "      <td>Sweden</td>\n",
              "      <td>2016-04-05</td>\n",
              "      <td>Stage I</td>\n",
              "      <td>Yes</td>\n",
              "      <td>Passive Smoker</td>\n",
              "      <td>29.4</td>\n",
              "      <td>199</td>\n",
              "      <td>0</td>\n",
              "      <td>0</td>\n",
              "      <td>1</td>\n",
              "      <td>0</td>\n",
              "      <td>Chemotherapy</td>\n",
              "      <td>2017-09-10</td>\n",
              "      <td>0</td>\n",
              "    </tr>\n",
              "    <tr>\n",
              "      <th>1</th>\n",
              "      <td>2</td>\n",
              "      <td>50.0</td>\n",
              "      <td>Female</td>\n",
              "      <td>Netherlands</td>\n",
              "      <td>2023-04-20</td>\n",
              "      <td>Stage III</td>\n",
              "      <td>Yes</td>\n",
              "      <td>Passive Smoker</td>\n",
              "      <td>41.2</td>\n",
              "      <td>280</td>\n",
              "      <td>1</td>\n",
              "      <td>1</td>\n",
              "      <td>0</td>\n",
              "      <td>0</td>\n",
              "      <td>Surgery</td>\n",
              "      <td>2024-06-17</td>\n",
              "      <td>1</td>\n",
              "    </tr>\n",
              "    <tr>\n",
              "      <th>2</th>\n",
              "      <td>3</td>\n",
              "      <td>65.0</td>\n",
              "      <td>Female</td>\n",
              "      <td>Hungary</td>\n",
              "      <td>2023-04-05</td>\n",
              "      <td>Stage III</td>\n",
              "      <td>Yes</td>\n",
              "      <td>Former Smoker</td>\n",
              "      <td>44.0</td>\n",
              "      <td>268</td>\n",
              "      <td>1</td>\n",
              "      <td>1</td>\n",
              "      <td>0</td>\n",
              "      <td>0</td>\n",
              "      <td>Combined</td>\n",
              "      <td>2024-04-09</td>\n",
              "      <td>0</td>\n",
              "    </tr>\n",
              "    <tr>\n",
              "      <th>3</th>\n",
              "      <td>4</td>\n",
              "      <td>51.0</td>\n",
              "      <td>Female</td>\n",
              "      <td>Belgium</td>\n",
              "      <td>2016-02-05</td>\n",
              "      <td>Stage I</td>\n",
              "      <td>No</td>\n",
              "      <td>Passive Smoker</td>\n",
              "      <td>43.0</td>\n",
              "      <td>241</td>\n",
              "      <td>1</td>\n",
              "      <td>1</td>\n",
              "      <td>0</td>\n",
              "      <td>0</td>\n",
              "      <td>Chemotherapy</td>\n",
              "      <td>2017-04-23</td>\n",
              "      <td>0</td>\n",
              "    </tr>\n",
              "    <tr>\n",
              "      <th>4</th>\n",
              "      <td>5</td>\n",
              "      <td>37.0</td>\n",
              "      <td>Male</td>\n",
              "      <td>Luxembourg</td>\n",
              "      <td>2023-11-29</td>\n",
              "      <td>Stage I</td>\n",
              "      <td>No</td>\n",
              "      <td>Passive Smoker</td>\n",
              "      <td>19.7</td>\n",
              "      <td>178</td>\n",
              "      <td>0</td>\n",
              "      <td>0</td>\n",
              "      <td>0</td>\n",
              "      <td>0</td>\n",
              "      <td>Combined</td>\n",
              "      <td>2025-01-08</td>\n",
              "      <td>0</td>\n",
              "    </tr>\n",
              "  </tbody>\n",
              "</table>\n",
              "</div>\n",
              "    <div class=\"colab-df-buttons\">\n",
              "\n",
              "  <div class=\"colab-df-container\">\n",
              "    <button class=\"colab-df-convert\" onclick=\"convertToInteractive('df-34ed7c9c-d62e-4606-afdf-54cd03864574')\"\n",
              "            title=\"Convert this dataframe to an interactive table.\"\n",
              "            style=\"display:none;\">\n",
              "\n",
              "  <svg xmlns=\"http://www.w3.org/2000/svg\" height=\"24px\" viewBox=\"0 -960 960 960\">\n",
              "    <path d=\"M120-120v-720h720v720H120Zm60-500h600v-160H180v160Zm220 220h160v-160H400v160Zm0 220h160v-160H400v160ZM180-400h160v-160H180v160Zm440 0h160v-160H620v160ZM180-180h160v-160H180v160Zm440 0h160v-160H620v160Z\"/>\n",
              "  </svg>\n",
              "    </button>\n",
              "\n",
              "  <style>\n",
              "    .colab-df-container {\n",
              "      display:flex;\n",
              "      gap: 12px;\n",
              "    }\n",
              "\n",
              "    .colab-df-convert {\n",
              "      background-color: #E8F0FE;\n",
              "      border: none;\n",
              "      border-radius: 50%;\n",
              "      cursor: pointer;\n",
              "      display: none;\n",
              "      fill: #1967D2;\n",
              "      height: 32px;\n",
              "      padding: 0 0 0 0;\n",
              "      width: 32px;\n",
              "    }\n",
              "\n",
              "    .colab-df-convert:hover {\n",
              "      background-color: #E2EBFA;\n",
              "      box-shadow: 0px 1px 2px rgba(60, 64, 67, 0.3), 0px 1px 3px 1px rgba(60, 64, 67, 0.15);\n",
              "      fill: #174EA6;\n",
              "    }\n",
              "\n",
              "    .colab-df-buttons div {\n",
              "      margin-bottom: 4px;\n",
              "    }\n",
              "\n",
              "    [theme=dark] .colab-df-convert {\n",
              "      background-color: #3B4455;\n",
              "      fill: #D2E3FC;\n",
              "    }\n",
              "\n",
              "    [theme=dark] .colab-df-convert:hover {\n",
              "      background-color: #434B5C;\n",
              "      box-shadow: 0px 1px 3px 1px rgba(0, 0, 0, 0.15);\n",
              "      filter: drop-shadow(0px 1px 2px rgba(0, 0, 0, 0.3));\n",
              "      fill: #FFFFFF;\n",
              "    }\n",
              "  </style>\n",
              "\n",
              "    <script>\n",
              "      const buttonEl =\n",
              "        document.querySelector('#df-34ed7c9c-d62e-4606-afdf-54cd03864574 button.colab-df-convert');\n",
              "      buttonEl.style.display =\n",
              "        google.colab.kernel.accessAllowed ? 'block' : 'none';\n",
              "\n",
              "      async function convertToInteractive(key) {\n",
              "        const element = document.querySelector('#df-34ed7c9c-d62e-4606-afdf-54cd03864574');\n",
              "        const dataTable =\n",
              "          await google.colab.kernel.invokeFunction('convertToInteractive',\n",
              "                                                    [key], {});\n",
              "        if (!dataTable) return;\n",
              "\n",
              "        const docLinkHtml = 'Like what you see? Visit the ' +\n",
              "          '<a target=\"_blank\" href=https://colab.research.google.com/notebooks/data_table.ipynb>data table notebook</a>'\n",
              "          + ' to learn more about interactive tables.';\n",
              "        element.innerHTML = '';\n",
              "        dataTable['output_type'] = 'display_data';\n",
              "        await google.colab.output.renderOutput(dataTable, element);\n",
              "        const docLink = document.createElement('div');\n",
              "        docLink.innerHTML = docLinkHtml;\n",
              "        element.appendChild(docLink);\n",
              "      }\n",
              "    </script>\n",
              "  </div>\n",
              "\n",
              "\n",
              "    <div id=\"df-57da108a-5e7d-4bad-8321-f5b1382e5e12\">\n",
              "      <button class=\"colab-df-quickchart\" onclick=\"quickchart('df-57da108a-5e7d-4bad-8321-f5b1382e5e12')\"\n",
              "                title=\"Suggest charts\"\n",
              "                style=\"display:none;\">\n",
              "\n",
              "<svg xmlns=\"http://www.w3.org/2000/svg\" height=\"24px\"viewBox=\"0 0 24 24\"\n",
              "     width=\"24px\">\n",
              "    <g>\n",
              "        <path d=\"M19 3H5c-1.1 0-2 .9-2 2v14c0 1.1.9 2 2 2h14c1.1 0 2-.9 2-2V5c0-1.1-.9-2-2-2zM9 17H7v-7h2v7zm4 0h-2V7h2v10zm4 0h-2v-4h2v4z\"/>\n",
              "    </g>\n",
              "</svg>\n",
              "      </button>\n",
              "\n",
              "<style>\n",
              "  .colab-df-quickchart {\n",
              "      --bg-color: #E8F0FE;\n",
              "      --fill-color: #1967D2;\n",
              "      --hover-bg-color: #E2EBFA;\n",
              "      --hover-fill-color: #174EA6;\n",
              "      --disabled-fill-color: #AAA;\n",
              "      --disabled-bg-color: #DDD;\n",
              "  }\n",
              "\n",
              "  [theme=dark] .colab-df-quickchart {\n",
              "      --bg-color: #3B4455;\n",
              "      --fill-color: #D2E3FC;\n",
              "      --hover-bg-color: #434B5C;\n",
              "      --hover-fill-color: #FFFFFF;\n",
              "      --disabled-bg-color: #3B4455;\n",
              "      --disabled-fill-color: #666;\n",
              "  }\n",
              "\n",
              "  .colab-df-quickchart {\n",
              "    background-color: var(--bg-color);\n",
              "    border: none;\n",
              "    border-radius: 50%;\n",
              "    cursor: pointer;\n",
              "    display: none;\n",
              "    fill: var(--fill-color);\n",
              "    height: 32px;\n",
              "    padding: 0;\n",
              "    width: 32px;\n",
              "  }\n",
              "\n",
              "  .colab-df-quickchart:hover {\n",
              "    background-color: var(--hover-bg-color);\n",
              "    box-shadow: 0 1px 2px rgba(60, 64, 67, 0.3), 0 1px 3px 1px rgba(60, 64, 67, 0.15);\n",
              "    fill: var(--button-hover-fill-color);\n",
              "  }\n",
              "\n",
              "  .colab-df-quickchart-complete:disabled,\n",
              "  .colab-df-quickchart-complete:disabled:hover {\n",
              "    background-color: var(--disabled-bg-color);\n",
              "    fill: var(--disabled-fill-color);\n",
              "    box-shadow: none;\n",
              "  }\n",
              "\n",
              "  .colab-df-spinner {\n",
              "    border: 2px solid var(--fill-color);\n",
              "    border-color: transparent;\n",
              "    border-bottom-color: var(--fill-color);\n",
              "    animation:\n",
              "      spin 1s steps(1) infinite;\n",
              "  }\n",
              "\n",
              "  @keyframes spin {\n",
              "    0% {\n",
              "      border-color: transparent;\n",
              "      border-bottom-color: var(--fill-color);\n",
              "      border-left-color: var(--fill-color);\n",
              "    }\n",
              "    20% {\n",
              "      border-color: transparent;\n",
              "      border-left-color: var(--fill-color);\n",
              "      border-top-color: var(--fill-color);\n",
              "    }\n",
              "    30% {\n",
              "      border-color: transparent;\n",
              "      border-left-color: var(--fill-color);\n",
              "      border-top-color: var(--fill-color);\n",
              "      border-right-color: var(--fill-color);\n",
              "    }\n",
              "    40% {\n",
              "      border-color: transparent;\n",
              "      border-right-color: var(--fill-color);\n",
              "      border-top-color: var(--fill-color);\n",
              "    }\n",
              "    60% {\n",
              "      border-color: transparent;\n",
              "      border-right-color: var(--fill-color);\n",
              "    }\n",
              "    80% {\n",
              "      border-color: transparent;\n",
              "      border-right-color: var(--fill-color);\n",
              "      border-bottom-color: var(--fill-color);\n",
              "    }\n",
              "    90% {\n",
              "      border-color: transparent;\n",
              "      border-bottom-color: var(--fill-color);\n",
              "    }\n",
              "  }\n",
              "</style>\n",
              "\n",
              "      <script>\n",
              "        async function quickchart(key) {\n",
              "          const quickchartButtonEl =\n",
              "            document.querySelector('#' + key + ' button');\n",
              "          quickchartButtonEl.disabled = true;  // To prevent multiple clicks.\n",
              "          quickchartButtonEl.classList.add('colab-df-spinner');\n",
              "          try {\n",
              "            const charts = await google.colab.kernel.invokeFunction(\n",
              "                'suggestCharts', [key], {});\n",
              "          } catch (error) {\n",
              "            console.error('Error during call to suggestCharts:', error);\n",
              "          }\n",
              "          quickchartButtonEl.classList.remove('colab-df-spinner');\n",
              "          quickchartButtonEl.classList.add('colab-df-quickchart-complete');\n",
              "        }\n",
              "        (() => {\n",
              "          let quickchartButtonEl =\n",
              "            document.querySelector('#df-57da108a-5e7d-4bad-8321-f5b1382e5e12 button');\n",
              "          quickchartButtonEl.style.display =\n",
              "            google.colab.kernel.accessAllowed ? 'block' : 'none';\n",
              "        })();\n",
              "      </script>\n",
              "    </div>\n",
              "\n",
              "    </div>\n",
              "  </div>\n"
            ],
            "application/vnd.google.colaboratory.intrinsic+json": {
              "type": "dataframe",
              "variable_name": "df"
            }
          },
          "metadata": {},
          "execution_count": 153
        }
      ],
      "execution_count": 153
    },
    {
      "cell_type": "markdown",
      "source": [
        "## ***To calculate the number of days treatment was given we subtracted the end date by the diagnosis date***"
      ],
      "metadata": {
        "id": "Sq0EcTUrZjxD"
      }
    },
    {
      "cell_type": "code",
      "source": [
        "df['diagnosis_date'] = pd.to_datetime(df['diagnosis_date'])\n",
        "df['end_treatment_date'] = pd.to_datetime(df['end_treatment_date'])\n",
        "\n",
        "df['treatment_duration_days'] = (df['end_treatment_date'] - df['diagnosis_date']).dt.days\n",
        "\n",
        "df.drop(['diagnosis_date', 'end_treatment_date'], axis=1, inplace=True)"
      ],
      "metadata": {
        "trusted": true,
        "execution": {
          "iopub.status.busy": "2025-06-30T03:07:58.376018Z",
          "iopub.execute_input": "2025-06-30T03:07:58.376444Z",
          "iopub.status.idle": "2025-06-30T03:07:58.847115Z",
          "shell.execute_reply.started": "2025-06-30T03:07:58.376396Z",
          "shell.execute_reply": "2025-06-30T03:07:58.846034Z"
        },
        "id": "u8pK2O6gZjxD"
      },
      "outputs": [],
      "execution_count": 154
    },
    {
      "cell_type": "code",
      "source": [
        "columns_to_encode = ['gender', 'country', 'family_history', 'smoking_status', 'treatment_type']\n",
        "\n",
        "df = pd.get_dummies(df, columns=columns_to_encode, drop_first=True)"
      ],
      "metadata": {
        "trusted": true,
        "execution": {
          "iopub.status.busy": "2025-06-30T03:03:31.240022Z",
          "iopub.execute_input": "2025-06-30T03:03:31.241108Z",
          "iopub.status.idle": "2025-06-30T03:03:31.874534Z",
          "shell.execute_reply.started": "2025-06-30T03:03:31.241076Z",
          "shell.execute_reply": "2025-06-30T03:03:31.872743Z"
        },
        "id": "3BbeisXmZjxD"
      },
      "outputs": [],
      "execution_count": 155
    },
    {
      "cell_type": "code",
      "source": [
        "stage_order = ['Stage I', 'Stage II', 'Stage III', 'Stage IV']\n",
        "\n",
        "df['cancer_stage'] = pd.Categorical(df['cancer_stage'], categories=stage_order, ordered=True).codes"
      ],
      "metadata": {
        "trusted": true,
        "execution": {
          "iopub.status.busy": "2025-06-30T03:05:32.535867Z",
          "iopub.execute_input": "2025-06-30T03:05:32.536249Z",
          "iopub.status.idle": "2025-06-30T03:05:32.595395Z",
          "shell.execute_reply.started": "2025-06-30T03:05:32.536222Z",
          "shell.execute_reply": "2025-06-30T03:05:32.594292Z"
        },
        "id": "QJ0gxxpzZjxD"
      },
      "outputs": [],
      "execution_count": 156
    },
    {
      "cell_type": "code",
      "source": [
        "df = df.astype({col: 'int' for col in df.select_dtypes('bool').columns})"
      ],
      "metadata": {
        "trusted": true,
        "execution": {
          "iopub.status.busy": "2025-06-30T03:10:41.938Z",
          "iopub.execute_input": "2025-06-30T03:10:41.938311Z",
          "iopub.status.idle": "2025-06-30T03:10:42.196274Z",
          "shell.execute_reply.started": "2025-06-30T03:10:41.938289Z",
          "shell.execute_reply": "2025-06-30T03:10:42.195022Z"
        },
        "id": "MxxBy7xHZjxE"
      },
      "outputs": [],
      "execution_count": 157
    },
    {
      "cell_type": "markdown",
      "source": [
        "# ***Select Ensemble Model Type***"
      ],
      "metadata": {
        "id": "IfojO2ImZjxE"
      }
    },
    {
      "cell_type": "code",
      "source": [
        "from sklearn.model_selection import train_test_split\n",
        "\n",
        "X = df.drop(['id','survived'],axis=1)\n",
        "y = df['survived']\n",
        "\n",
        "X_train, X_test, y_train, y_test = train_test_split(X, y, test_size=0.33, random_state=4)"
      ],
      "metadata": {
        "trusted": true,
        "execution": {
          "iopub.status.busy": "2025-06-30T03:14:49.851063Z",
          "iopub.execute_input": "2025-06-30T03:14:49.852077Z",
          "iopub.status.idle": "2025-06-30T03:14:52.054076Z",
          "shell.execute_reply.started": "2025-06-30T03:14:49.852037Z",
          "shell.execute_reply": "2025-06-30T03:14:52.053036Z"
        },
        "id": "s_CQ5vPvZjxE"
      },
      "outputs": [],
      "execution_count": 158
    },
    {
      "cell_type": "code",
      "source": [
        "def preprocess_input(user_input_dict, training_columns):\n",
        "    \"\"\"\n",
        "    Takes a dictionary of raw user input and preprocesses it\n",
        "    to match the format required by the trained model.\n",
        "    \"\"\"\n",
        "    # Convert to DataFrame\n",
        "    df = pd.DataFrame([user_input_dict])\n",
        "\n",
        "    if 'diagnosis_date' in df.columns and 'end_treatment_date' in df.columns:\n",
        "        df['diagnosis_date'] = pd.to_datetime(df['diagnosis_date'])\n",
        "        df['end_treatment_date'] = pd.to_datetime(df['end_treatment_date'])\n",
        "        df['treatment_duration_days'] = (df['end_treatment_date'] - df['diagnosis_date']).dt.days\n",
        "        df.drop(['diagnosis_date', 'end_treatment_date'], axis=1, inplace=True)\n",
        "\n",
        "\n",
        "    stage_map = {'Stage I': 0, 'Stage II': 1, 'Stage III': 2, 'Stage IV': 3}\n",
        "    df['cancer_stage'] = df['cancer_stage'].map(stage_map)\n",
        "\n",
        "    # OneHot Encoding\n",
        "    columns_to_encode = ['gender', 'country', 'family_history', 'smoking_status', 'treatment_type']\n",
        "    df = pd.get_dummies(df, columns=columns_to_encode, drop_first=True)\n",
        "\n",
        "\n",
        "    final_df = df.reindex(columns=training_columns, fill_value=0)\n",
        "\n",
        "    return final_df"
      ],
      "metadata": {
        "id": "SlreIgnwLiMS"
      },
      "execution_count": 159,
      "outputs": []
    },
    {
      "cell_type": "code",
      "source": [
        "from xgboost import XGBClassifier\n",
        "from sklearn.model_selection import train_test_split\n",
        "from sklearn.metrics import accuracy_score\n",
        "\n",
        "model = XGBClassifier(use_label_encoder=False, eval_metric='logloss')\n",
        "model.fit(X_train, y_train)"
      ],
      "metadata": {
        "trusted": true,
        "execution": {
          "iopub.status.busy": "2025-06-30T03:16:04.236301Z",
          "iopub.execute_input": "2025-06-30T03:16:04.236978Z",
          "iopub.status.idle": "2025-06-30T03:16:10.532125Z",
          "shell.execute_reply.started": "2025-06-30T03:16:04.236943Z",
          "shell.execute_reply": "2025-06-30T03:16:10.530803Z"
        },
        "collapsed": true,
        "id": "Np6wP0BKZjxE"
      },
      "outputs": [],
      "execution_count": null
    },
    {
      "cell_type": "code",
      "source": [
        "from sklearn.metrics import accuracy_score, precision_score, recall_score\n",
        "\n",
        "y_pred = model.predict(X_test)\n",
        "print(\"Accuracy:\", accuracy_score(y_test, y_pred))\n",
        "print(\"Precision:\", precision_score(y_test, y_pred, average='binary', zero_division=0))\n",
        "print(\"Recall:\", recall_score(y_test, y_pred, average='binary'))"
      ],
      "metadata": {
        "trusted": true,
        "execution": {
          "iopub.status.busy": "2025-06-30T03:16:58.81508Z",
          "iopub.execute_input": "2025-06-30T03:16:58.815539Z",
          "iopub.status.idle": "2025-06-30T03:16:59.014536Z",
          "shell.execute_reply.started": "2025-06-30T03:16:58.815509Z",
          "shell.execute_reply": "2025-06-30T03:16:59.013376Z"
        },
        "colab": {
          "base_uri": "https://localhost:8080/"
        },
        "id": "qq_ZXGoPZjxE",
        "outputId": "42044dfd-0054-42ea-ee4d-5ba7ff7bf090"
      },
      "outputs": [
        {
          "output_type": "stream",
          "name": "stdout",
          "text": [
            "Accuracy: 0.7795880149812734\n",
            "Precision: 0.18421052631578946\n",
            "Recall: 0.00010817326266013507\n"
          ]
        }
      ],
      "execution_count": 161
    },
    {
      "cell_type": "code",
      "source": [
        "from sklearn.metrics import roc_curve, auc\n",
        "y_proba = model.predict_proba(X_test)[:, 1]\n",
        "fpr, tpr, thresholds = roc_curve(y_test, y_proba)\n",
        "roc_auc = auc(fpr, tpr)"
      ],
      "metadata": {
        "trusted": true,
        "execution": {
          "iopub.status.busy": "2025-06-30T03:19:12.885142Z",
          "iopub.execute_input": "2025-06-30T03:19:12.885553Z",
          "iopub.status.idle": "2025-06-30T03:19:13.737279Z",
          "shell.execute_reply.started": "2025-06-30T03:19:12.885523Z",
          "shell.execute_reply": "2025-06-30T03:19:13.736142Z"
        },
        "id": "kbxxBCIkZjxE"
      },
      "outputs": [],
      "execution_count": 162
    },
    {
      "cell_type": "markdown",
      "source": [
        "## ***The Model Outputs below Average Results***"
      ],
      "metadata": {
        "id": "AI79JUiVZjxE"
      }
    },
    {
      "cell_type": "code",
      "source": [
        "from sklearn.linear_model import LogisticRegression\n",
        "\n",
        "log_reg = LogisticRegression(max_iter=1000)\n",
        "log_reg.fit(X_train, y_train)\n",
        "\n",
        "y_pred_lr = log_reg.predict(X_test)\n",
        "y_proba_lr = log_reg.predict_proba(X_test)[:, 1]"
      ],
      "metadata": {
        "trusted": true,
        "execution": {
          "iopub.status.busy": "2025-06-30T03:19:57.165238Z",
          "iopub.execute_input": "2025-06-30T03:19:57.165617Z",
          "iopub.status.idle": "2025-06-30T03:20:28.902713Z",
          "shell.execute_reply.started": "2025-06-30T03:19:57.165592Z",
          "shell.execute_reply": "2025-06-30T03:20:28.901697Z"
        },
        "id": "-yAJ6WIQZjxE"
      },
      "outputs": [],
      "execution_count": 163
    },
    {
      "cell_type": "code",
      "source": [
        "from sklearn.metrics import accuracy_score, precision_score, recall_score\n",
        "\n",
        "print(\"Logistic Regression Accuracy:\", accuracy_score(y_test, y_pred_lr))\n",
        "print(\"Logistic Regression Precision:\", precision_score(y_test, y_pred_lr, zero_division=0))\n",
        "print(\"Logistic Regression Recall:\", recall_score(y_test, y_pred_lr))"
      ],
      "metadata": {
        "trusted": true,
        "execution": {
          "iopub.status.busy": "2025-06-30T03:20:32.415209Z",
          "iopub.execute_input": "2025-06-30T03:20:32.415599Z",
          "iopub.status.idle": "2025-06-30T03:20:32.656675Z",
          "shell.execute_reply.started": "2025-06-30T03:20:32.415572Z",
          "shell.execute_reply": "2025-06-30T03:20:32.655342Z"
        },
        "colab": {
          "base_uri": "https://localhost:8080/"
        },
        "id": "leBdrb5TZjxF",
        "outputId": "61d0ffa1-a955-4a27-d003-1be4d0f48f0e"
      },
      "outputs": [
        {
          "output_type": "stream",
          "name": "stdout",
          "text": [
            "Logistic Regression Accuracy: 0.7796697310180456\n",
            "Logistic Regression Precision: 0.0\n",
            "Logistic Regression Recall: 0.0\n"
          ]
        }
      ],
      "execution_count": 164
    },
    {
      "cell_type": "markdown",
      "metadata": {
        "id": "12888898"
      },
      "source": [
        "# ***Resampling training data***\n",
        "\n",
        "\n"
      ]
    },
    {
      "cell_type": "markdown",
      "metadata": {
        "id": "2e28617a"
      },
      "source": [
        "**Explanation**:\n",
        "Apply SMOTE to the training data to balance the classes.\n",
        "\n"
      ]
    },
    {
      "cell_type": "code",
      "metadata": {
        "colab": {
          "base_uri": "https://localhost:8080/"
        },
        "id": "de0c24c9",
        "outputId": "a99271f8-34e1-4f4b-9f1f-dd322c95bd48"
      },
      "source": [
        "from imblearn.over_sampling import SMOTE\n",
        "\n",
        "smote = SMOTE(random_state=42)\n",
        "X_train_resampled, y_train_resampled = smote.fit_resample(X_train, y_train)\n",
        "\n",
        "print(\"Original dataset shape %s\" % y_train.value_counts())\n",
        "print(\"Resampled dataset shape %s\" % y_train_resampled.value_counts())"
      ],
      "execution_count": 165,
      "outputs": [
        {
          "output_type": "stream",
          "name": "stdout",
          "text": [
            "Original dataset shape survived\n",
            "0    465007\n",
            "1    131293\n",
            "Name: count, dtype: int64\n",
            "Resampled dataset shape survived\n",
            "0    465007\n",
            "1    465007\n",
            "Name: count, dtype: int64\n"
          ]
        }
      ]
    },
    {
      "cell_type": "markdown",
      "metadata": {
        "id": "e7c1f3b9"
      },
      "source": [
        "## ***Re-instantiate the XGBoost model and fit it to the resampled training data***\n",
        "\n",
        "\n"
      ]
    },
    {
      "cell_type": "code",
      "metadata": {
        "id": "5bc2751f"
      },
      "source": [
        "model_resampled = XGBClassifier(use_label_encoder=False, eval_metric='logloss')\n",
        "model_resampled.fit(X_train_resampled, y_train_resampled)"
      ],
      "execution_count": null,
      "outputs": []
    },
    {
      "cell_type": "markdown",
      "metadata": {
        "id": "516eb6fb"
      },
      "source": [
        "# ***Evaluate Retrained Model***\n",
        "\n"
      ]
    },
    {
      "cell_type": "markdown",
      "metadata": {
        "id": "c7f5271d"
      },
      "source": [
        "**Reasoning**:\n",
        "Predict labels and probabilities on the test set using the retrained model and calculate evaluation metrics.\n",
        "\n"
      ]
    },
    {
      "cell_type": "code",
      "metadata": {
        "colab": {
          "base_uri": "https://localhost:8080/"
        },
        "id": "c76b4c0d",
        "outputId": "5d4bb75c-d6f2-42a2-cfb4-aa2aee8add2a"
      },
      "source": [
        "from sklearn.metrics import accuracy_score, precision_score, recall_score, roc_curve, auc\n",
        "import matplotlib.pyplot as plt\n",
        "\n",
        "y_pred_resampled = model_resampled.predict(X_test)\n",
        "y_proba_resampled = model_resampled.predict_proba(X_test)[:, 1]\n",
        "\n",
        "accuracy_resampled = accuracy_score(y_test, y_pred_resampled)\n",
        "precision_resampled = precision_score(y_test, y_pred_resampled, average='binary', zero_division=0)\n",
        "recall_resampled = recall_score(y_test, y_pred_resampled, average='binary')\n",
        "fpr_resampled, tpr_resampled, _ = roc_curve(y_test, y_proba_resampled)\n",
        "roc_auc_resampled = auc(fpr_resampled, tpr_resampled)\n",
        "\n",
        "print(\"Resampled Model Accuracy:\", accuracy_resampled)\n",
        "print(\"Resampled Model Precision:\", precision_resampled)\n",
        "print(\"Resampled Model Recall:\", recall_resampled)\n",
        "print(\"Resampled Model AUC-ROC:\", roc_auc_resampled)"
      ],
      "execution_count": 167,
      "outputs": [
        {
          "output_type": "stream",
          "name": "stdout",
          "text": [
            "Resampled Model Accuracy: 0.7502349336057201\n",
            "Resampled Model Precision: 0.21560628988749259\n",
            "Resampled Model Recall: 0.05064054024818037\n",
            "Resampled Model AUC-ROC: 0.5018205243202877\n"
          ]
        }
      ]
    },
    {
      "cell_type": "markdown",
      "metadata": {
        "id": "6e7ced51"
      },
      "source": [
        "# ***Comparing Retrained Model***\n",
        "\n",
        "Compare the evaluation metrics of the retrained model with the original model to assess the impact of resampling.\n"
      ]
    },
    {
      "cell_type": "code",
      "metadata": {
        "colab": {
          "base_uri": "https://localhost:8080/"
        },
        "id": "c1da3282",
        "outputId": "022d4117-e78a-4235-cefc-07ee2d652c4c"
      },
      "source": [
        "print(\"Original Model Metrics:\")\n",
        "print(\"Accuracy:\", accuracy_score(y_test, y_pred))\n",
        "print(\"Precision:\", precision_score(y_test, y_pred, average='binary', zero_division=0))\n",
        "print(\"Recall:\", recall_score(y_test, y_pred, average='binary'))\n",
        "print(\"AUC-ROC:\", roc_auc)\n",
        "\n",
        "print(\"\\nResampled Model Metrics:\")\n",
        "print(\"Accuracy:\", accuracy_resampled)\n",
        "print(\"Precision:\", precision_resampled)\n",
        "print(\"Recall:\", recall_resampled)\n",
        "print(\"AUC-ROC:\", roc_auc_resampled)"
      ],
      "execution_count": 170,
      "outputs": [
        {
          "output_type": "stream",
          "name": "stdout",
          "text": [
            "Original Model Metrics:\n",
            "Accuracy: 0.7795880149812734\n",
            "Precision: 0.18421052631578946\n",
            "Recall: 0.00010817326266013507\n",
            "AUC-ROC: 0.4986273721566256\n",
            "\n",
            "Resampled Model Metrics:\n",
            "Accuracy: 0.7502349336057201\n",
            "Precision: 0.21560628988749259\n",
            "Recall: 0.05064054024818037\n",
            "AUC-ROC: 0.5018205243202877\n"
          ]
        }
      ]
    },
    {
      "cell_type": "markdown",
      "source": [
        "# ***Test Prompt***\n",
        "\n"
      ],
      "metadata": {
        "id": "Pxa5Fkgt988p"
      }
    },
    {
      "cell_type": "markdown",
      "metadata": {
        "id": "9bc0d206"
      },
      "source": [
        "**Explanation**:\n",
        "The model using resampled data shows an increase in precision and recall\n",
        "\n"
      ]
    },
    {
      "cell_type": "code",
      "metadata": {
        "id": "4PzWyqJ69sqt",
        "colab": {
          "base_uri": "https://localhost:8080/"
        },
        "outputId": "c113417b-9548-4953-acdf-223526c56aa0"
      },
      "source": [
        "\n",
        "user_input = {\n",
        "    'age': 18,\n",
        "    'gender': 'Male',\n",
        "    'country': 'United Kingdom',\n",
        "    'cancer_stage': 'Stage I',\n",
        "    'cholesterol_level': 197,\n",
        "    'bmi': 22.5,\n",
        "    'hypertension': 0,\n",
        "    'asthma': 0,\n",
        "    'cirrhosis': 0,\n",
        "    'other_cancer': 0, # Added missing feature\n",
        "    'family_history': 'No',\n",
        "    'smoking_status': 'Never Smoked', # Use the original category name\n",
        "    'treatment_type': 'Surgery', # Use the original category name\n",
        "    'diagnosis_date': '2018-04-28',\n",
        "    'end_treatment_date': '2025-08-23'\n",
        "}\n",
        "\n",
        "# Fetching training set columns\n",
        "training_columns = X_train.columns.tolist()\n",
        "\n",
        "# Preprocess the input using the function\n",
        "preprocessed_user_df = preprocess_input(user_input, training_columns)\n",
        "\n",
        "# Make the prediction\n",
        "prediction = model_resampled.predict(preprocessed_user_df)\n",
        "prediction_probability = model_resampled.predict_proba(preprocessed_user_df)[:, 1]\n",
        "\n",
        "print(f\"Predicted Survival Outcome: {prediction[0]}\")\n",
        "print(f\"Predicted Survival Probability: {prediction_probability[0]:.2f}\")"
      ],
      "execution_count": 179,
      "outputs": [
        {
          "output_type": "stream",
          "name": "stdout",
          "text": [
            "Predicted Survival Outcome: 1\n",
            "Predicted Survival Probability: 0.98\n"
          ]
        }
      ]
    }
  ]
}